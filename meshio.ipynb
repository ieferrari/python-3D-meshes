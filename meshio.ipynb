{
 "cells": [
  {
   "cell_type": "markdown",
   "metadata": {},
   "source": [
    "## Meshio\n",
    "*Latest version Released: Feb 28, 2020*,  [web](https://pypi.org/project/meshio/), install with:\n",
    "\n",
    "    pip install meshio\n",
    "\n",
    "\n",
    "There are various mesh formats available for representing unstructured meshes. meshio can read and write all of the following and smoothly converts between them:\n",
    "\n",
    "    Abaqus, ANSYS msh, AVS-UCD, CGNS, DOLFIN XML, Exodus, FLAC3D, H5M, Kratos/MDPA, Medit, MED/Salome, Nastran (bulk data), Neuroglancer precomputed format, Gmsh (format versions 2.2, 4.0, and 4.1), OBJ, OFF, PERMAS, PLY, STL, Tecplot .dat, TetGen .node/.ele, SVG (2D only, output only), UGRID, VTK, VTU (not raw binary data), WKT (TIN), XDMF.\n",
    "\n",
    "\n",
    "\n",
    "### Crear una malla de triángulos .vtk\n"
   ]
  },
  {
   "cell_type": "code",
   "execution_count": null,
   "metadata": {},
   "outputs": [],
   "source": []
  },
  {
   "cell_type": "code",
   "execution_count": 1,
   "metadata": {},
   "outputs": [
    {
     "name": "stdout",
     "output_type": "stream",
     "text": [
      "Collecting meshio\n",
      "\u001b[?25l  Downloading https://files.pythonhosted.org/packages/ec/f7/d5e43b1904180b8e678cdb0a5b20105837b58f5c5e5b0367f1888e018573/meshio-4.0.10-py3-none-any.whl (127kB)\n",
      "\u001b[K     |████████████████████████████████| 133kB 426kB/s eta 0:00:01\n",
      "\u001b[?25hRequirement already satisfied: importlib-metadata in /opt/anaconda3/lib/python3.7/site-packages (from meshio) (0.23)\n",
      "Requirement already satisfied: numpy in /opt/anaconda3/lib/python3.7/site-packages (from meshio) (1.17.2)\n",
      "Requirement already satisfied: zipp>=0.5 in /opt/anaconda3/lib/python3.7/site-packages (from importlib-metadata->meshio) (0.6.0)\n",
      "Requirement already satisfied: more-itertools in /opt/anaconda3/lib/python3.7/site-packages (from zipp>=0.5->importlib-metadata->meshio) (7.2.0)\n",
      "Installing collected packages: meshio\n",
      "\u001b[33m  WARNING: The scripts meshio-ascii, meshio-binary, meshio-compress, meshio-convert, meshio-decompress and meshio-info are installed in '/home/user/.local/bin' which is not on PATH.\n",
      "  Consider adding this directory to PATH or, if you prefer to suppress this warning, use --no-warn-script-location.\u001b[0m\n",
      "Successfully installed meshio-4.0.10\n"
     ]
    }
   ],
   "source": [
    "!pip install meshio --user"
   ]
  },
  {
   "cell_type": "code",
   "execution_count": 1,
   "metadata": {},
   "outputs": [],
   "source": [
    "import meshio\n",
    "import numpy\n",
    "\n",
    "points = numpy.array([\n",
    "    [0.0, 0.0, 0.0],\n",
    "    [0.0, 1.0, 0.0],\n",
    "    [0.0, 0.0, 1.0],\n",
    "    ])\n",
    "cells = [\n",
    "    (\"triangle\", numpy.array([[0, 1, 2]]))\n",
    "]\n",
    "\n",
    "field_data = [(\"sd\",numpy.array([\n",
    "    [0],\n",
    "    [1],\n",
    "    [0],\n",
    "    ]))]\n",
    "\n",
    "#mesh = meshio.Mesh(points, cells)\n",
    "#meshio.write(\"foo.vtk\", mesh)\n",
    "\n",
    "#alternative expression\n",
    "meshio.write_points_cells(\n",
    "    \"foo0.vtk\",\n",
    "    points,\n",
    "    cells,\n",
    "    # Optionally provide extra data on points, cells, etc.\n",
    "    #point_data=point_data,\n",
    "    # cell_data=cell_data,\n",
    "     field_data=field_data\n",
    "    )"
   ]
  },
  {
   "cell_type": "markdown",
   "metadata": {},
   "source": [
    "### Leer una malla .vtk"
   ]
  },
  {
   "cell_type": "code",
   "execution_count": 7,
   "metadata": {},
   "outputs": [
    {
     "data": {
      "text/plain": [
       "(array([[0., 0., 0.],\n",
       "        [0., 1., 0.],\n",
       "        [0., 0., 1.]]),\n",
       " [CellBlock(type='triangle', data=array([[0, 1, 2]], dtype=int32))],\n",
       " {})"
      ]
     },
     "execution_count": 7,
     "metadata": {},
     "output_type": "execute_result"
    }
   ],
   "source": [
    "import meshio\n",
    "\n",
    "mesh = meshio.read(\n",
    "    \"foo.vtk\",  # string, os.PathLike, or a buffer/open file\n",
    "    file_format=\"vtk\"  # optional if filename is a path; inferred from extension\n",
    ")\n",
    "# mesh.points, mesh.cells, mesh.cells_dict, ...\n",
    "\n",
    "# mesh.vtk.read() is also possible\n",
    "\n",
    "mesh.points, mesh.cells, mesh.field_data"
   ]
  },
  {
   "cell_type": "markdown",
   "metadata": {},
   "source": [
    "### Time series whith The XDMF format"
   ]
  },
  {
   "cell_type": "code",
   "execution_count": 21,
   "metadata": {},
   "outputs": [
    {
     "ename": "NameError",
     "evalue": "name 'data' is not defined",
     "output_type": "error",
     "traceback": [
      "\u001b[0;31m---------------------------------------------------------------------------\u001b[0m",
      "\u001b[0;31mNameError\u001b[0m                                 Traceback (most recent call last)",
      "\u001b[0;32m<ipython-input-21-d5154a92d3dd>\u001b[0m in \u001b[0;36m<module>\u001b[0;34m\u001b[0m\n\u001b[1;32m      2\u001b[0m     \u001b[0mwriter\u001b[0m\u001b[0;34m.\u001b[0m\u001b[0mwrite_points_cells\u001b[0m\u001b[0;34m(\u001b[0m\u001b[0mpoints\u001b[0m\u001b[0;34m,\u001b[0m \u001b[0mcells\u001b[0m\u001b[0;34m)\u001b[0m\u001b[0;34m\u001b[0m\u001b[0;34m\u001b[0m\u001b[0m\n\u001b[1;32m      3\u001b[0m     \u001b[0;32mfor\u001b[0m \u001b[0mt\u001b[0m \u001b[0;32min\u001b[0m \u001b[0;34m[\u001b[0m\u001b[0;36m0.0\u001b[0m\u001b[0;34m,\u001b[0m \u001b[0;36m0.1\u001b[0m\u001b[0;34m,\u001b[0m \u001b[0;36m0.21\u001b[0m\u001b[0;34m]\u001b[0m\u001b[0;34m:\u001b[0m\u001b[0;34m\u001b[0m\u001b[0;34m\u001b[0m\u001b[0m\n\u001b[0;32m----> 4\u001b[0;31m         \u001b[0mwriter\u001b[0m\u001b[0;34m.\u001b[0m\u001b[0mwrite_data\u001b[0m\u001b[0;34m(\u001b[0m\u001b[0mt\u001b[0m\u001b[0;34m,\u001b[0m \u001b[0mpoint_data\u001b[0m\u001b[0;34m=\u001b[0m\u001b[0;34m{\u001b[0m\u001b[0;34m\"phi\"\u001b[0m\u001b[0;34m:\u001b[0m \u001b[0mdata\u001b[0m\u001b[0;34m}\u001b[0m\u001b[0;34m)\u001b[0m\u001b[0;34m\u001b[0m\u001b[0;34m\u001b[0m\u001b[0m\n\u001b[0m",
      "\u001b[0;31mNameError\u001b[0m: name 'data' is not defined"
     ]
    }
   ],
   "source": [
    "with meshio.xdmf.TimeSeriesWriter(\"filename.xdmf\") as writer:\n",
    "    writer.write_points_cells(points, cells)\n",
    "    for t in [0.0, 0.1, 0.21]:\n",
    "        writer.write_data(t, point_data={\"phi\": data})"
   ]
  },
  {
   "cell_type": "markdown",
   "metadata": {},
   "source": [
    "### ParaView plugin\n",
    "\n",
    "Find the file paraview-meshio-plugin.py of your meshio installation (on Linux: ~/.local/share/paraview/plugins/) and load it under Tools / Manage Plugins / Load New\n",
    "\n",
    "You can now open all meshio-supported files in ParaView."
   ]
  },
  {
   "cell_type": "code",
   "execution_count": null,
   "metadata": {},
   "outputs": [],
   "source": []
  }
 ],
 "metadata": {
  "kernelspec": {
   "display_name": "Python 3",
   "language": "python",
   "name": "python3"
  },
  "language_info": {
   "codemirror_mode": {
    "name": "ipython",
    "version": 3
   },
   "file_extension": ".py",
   "mimetype": "text/x-python",
   "name": "python",
   "nbconvert_exporter": "python",
   "pygments_lexer": "ipython3",
   "version": "3.7.9"
  },
  "varInspector": {
   "cols": {
    "lenName": 16,
    "lenType": 16,
    "lenVar": 40
   },
   "kernels_config": {
    "python": {
     "delete_cmd_postfix": "",
     "delete_cmd_prefix": "del ",
     "library": "var_list.py",
     "varRefreshCmd": "print(var_dic_list())"
    },
    "r": {
     "delete_cmd_postfix": ") ",
     "delete_cmd_prefix": "rm(",
     "library": "var_list.r",
     "varRefreshCmd": "cat(var_dic_list()) "
    }
   },
   "types_to_exclude": [
    "module",
    "function",
    "builtin_function_or_method",
    "instance",
    "_Feature"
   ],
   "window_display": true
  }
 },
 "nbformat": 4,
 "nbformat_minor": 2
}
