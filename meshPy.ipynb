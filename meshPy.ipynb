{
 "cells": [
  {
   "cell_type": "markdown",
   "metadata": {},
   "source": [
    "# MeshPy\n",
    "[web](https://mathema.tician.de/software/meshpy/) , [examples](https://github.com/inducer/meshpy/tree/master/examples)\n",
    "\n",
    "*Latest vesrion, Released: Oct 11, 2018* , install with:\n",
    "\n",
    "    pip install pybind11 meshpy pyvtk\n",
    "\n",
    "In order to generate these 2D and 3D meshes, MeshPy provides Python interfaces to a few well-regarded mesh generators:\n",
    "\n",
    "* Triangle by J. Shewchuk.\n",
    "* TetGen by Hang Si.\n",
    "\n"
   ]
  },
  {
   "cell_type": "code",
   "execution_count": 2,
   "metadata": {},
   "outputs": [
    {
     "name": "stdout",
     "output_type": "stream",
     "text": [
      "Collecting pybind11\n",
      "\u001b[?25l  Downloading https://files.pythonhosted.org/packages/89/e3/d576f6f02bc75bacbc3d42494e8f1d063c95617d86648dba243c2cb3963e/pybind11-2.5.0-py2.py3-none-any.whl (296kB)\n",
      "\u001b[K     |████████████████████████████████| 296kB 80kB/s eta 0:00:011\n",
      "\u001b[?25hCollecting meshpy\n",
      "\u001b[?25l  Downloading https://files.pythonhosted.org/packages/90/03/3bb205ac46141074aeb561f5bbf60fb2214380aa6ac1435b49d275cf219a/MeshPy-2018.2.1.tar.gz (472kB)\n",
      "\u001b[K     |████████████████████████████████| 481kB 435kB/s eta 0:00:01\n",
      "\u001b[?25hCollecting pyvtk\n",
      "  Downloading https://files.pythonhosted.org/packages/6a/dc/d5ffc2cc50bdd7a2e7b435655ee5931d614f7c118624dd20c51440c79337/PyVTK-0.5.18.tar.gz\n",
      "Collecting pytools>=2011.2 (from meshpy)\n",
      "\u001b[?25l  Downloading https://files.pythonhosted.org/packages/66/c7/88a4f8b6f0f78d0115ec3320861a0cc1f6daa3b67e97c3c2842c33f9c089/pytools-2020.1.tar.gz (60kB)\n",
      "\u001b[K     |████████████████████████████████| 61kB 519kB/s eta 0:00:01\n",
      "\u001b[?25hRequirement already satisfied: pytest>=2 in /opt/anaconda3/lib/python3.7/site-packages (from meshpy) (5.2.1)\n",
      "Requirement already satisfied: numpy in /opt/anaconda3/lib/python3.7/site-packages (from meshpy) (1.17.2)\n",
      "Collecting gmsh_interop (from meshpy)\n",
      "  Downloading https://files.pythonhosted.org/packages/a5/8c/62c40850d8e8a2c9c3d223c9b9456ed4431f02b0c45e16cc90bf0025fffe/gmsh_interop-2019.1.tar.gz\n",
      "Requirement already satisfied: six in /opt/anaconda3/lib/python3.7/site-packages (from meshpy) (1.12.0)\n",
      "Requirement already satisfied: decorator>=3.2.0 in /opt/anaconda3/lib/python3.7/site-packages (from pytools>=2011.2->meshpy) (4.4.0)\n",
      "Requirement already satisfied: appdirs>=1.4.0 in /home/user/.local/lib/python3.7/site-packages (from pytools>=2011.2->meshpy) (1.4.3)\n",
      "Requirement already satisfied: py>=1.5.0 in /opt/anaconda3/lib/python3.7/site-packages (from pytest>=2->meshpy) (1.8.0)\n",
      "Requirement already satisfied: packaging in /opt/anaconda3/lib/python3.7/site-packages (from pytest>=2->meshpy) (19.2)\n",
      "Requirement already satisfied: attrs>=17.4.0 in /opt/anaconda3/lib/python3.7/site-packages (from pytest>=2->meshpy) (19.2.0)\n",
      "Requirement already satisfied: more-itertools>=4.0.0 in /opt/anaconda3/lib/python3.7/site-packages (from pytest>=2->meshpy) (7.2.0)\n",
      "Requirement already satisfied: atomicwrites>=1.0 in /opt/anaconda3/lib/python3.7/site-packages (from pytest>=2->meshpy) (1.3.0)\n",
      "Requirement already satisfied: pluggy<1.0,>=0.12 in /opt/anaconda3/lib/python3.7/site-packages (from pytest>=2->meshpy) (0.13.0)\n",
      "Requirement already satisfied: wcwidth in /opt/anaconda3/lib/python3.7/site-packages (from pytest>=2->meshpy) (0.1.7)\n",
      "Requirement already satisfied: importlib-metadata>=0.12 in /opt/anaconda3/lib/python3.7/site-packages (from pytest>=2->meshpy) (0.23)\n",
      "Requirement already satisfied: pyparsing>=2.0.2 in /opt/anaconda3/lib/python3.7/site-packages (from packaging->pytest>=2->meshpy) (2.4.2)\n",
      "Requirement already satisfied: zipp>=0.5 in /opt/anaconda3/lib/python3.7/site-packages (from importlib-metadata>=0.12->pytest>=2->meshpy) (0.6.0)\n",
      "Building wheels for collected packages: meshpy, pyvtk, pytools, gmsh-interop\n",
      "  Building wheel for meshpy (setup.py) ... \u001b[?25ldone\n",
      "\u001b[?25h  Created wheel for meshpy: filename=MeshPy-2018.2.1-cp37-cp37m-linux_x86_64.whl size=415508 sha256=e13f2e2a16e383e503faaee5f09ab66aa8d0ea29c54bc2f6c40423a8785dfe47\n",
      "  Stored in directory: /home/user/.cache/pip/wheels/43/f6/00/0d863cde6a8531db3cab30dce6a6f86c7990188b2fe5e4bb2a\n",
      "  Building wheel for pyvtk (setup.py) ... \u001b[?25ldone\n",
      "\u001b[?25h  Created wheel for pyvtk: filename=PyVTK-0.5.18-cp37-none-any.whl size=24735 sha256=3f7256fa529de9cf6469f901b61fb7fb33b4076f32f8bb61e0e23425bae1a0cd\n",
      "  Stored in directory: /home/user/.cache/pip/wheels/7d/73/d6/4c3ce104624b4459b6dbc3329235f68815d35e5d6c0f3aac83\n",
      "  Building wheel for pytools (setup.py) ... \u001b[?25ldone\n",
      "\u001b[?25h  Created wheel for pytools: filename=pytools-2020.1-py2.py3-none-any.whl size=59604 sha256=d3664787e0d0c202cde3e4d76dfa80848412e4f6da4e4d6311f40cd0b29c7b72\n",
      "  Stored in directory: /home/user/.cache/pip/wheels/6f/da/1b/946775a88291378182ed92c9800d6d0ebc2a554cb89829cc24\n",
      "  Building wheel for gmsh-interop (setup.py) ... \u001b[?25ldone\n",
      "\u001b[?25h  Created wheel for gmsh-interop: filename=gmsh_interop-2019.1-py2.py3-none-any.whl size=12136 sha256=e469df842cfddd411b0eb38ba198e3ddabd2c2ae926a06d54c03d55412d0383b\n",
      "  Stored in directory: /home/user/.cache/pip/wheels/be/19/0b/76011e06f64c41e0dcfed58e171c091c31f2b499a981d8d773\n",
      "Successfully built meshpy pyvtk pytools gmsh-interop\n",
      "Installing collected packages: pybind11, pytools, gmsh-interop, meshpy, pyvtk\n",
      "Successfully installed gmsh-interop-2019.1 meshpy-2018.2.1 pybind11-2.5.0 pytools-2020.1 pyvtk-0.5.18\n"
     ]
    }
   ],
   "source": [
    "!pip install pybind11 meshpy pyvtk --user"
   ]
  },
  {
   "cell_type": "code",
   "execution_count": 4,
   "metadata": {},
   "outputs": [
    {
     "name": "stdout",
     "output_type": "stream",
     "text": [
      "A\n"
     ]
    }
   ],
   "source": [
    "from __future__ import absolute_import\n",
    "from __future__ import print_function\n",
    "from six.moves import range\n",
    "def simpleSquare():\n",
    "    import meshpy.triangle as triangle\n",
    "\n",
    "    points = [ (1,1),(-1,1),(-1,-1),(1,-1)]\n",
    "\n",
    "    def round_trip_connect(start, end):\n",
    "      result = []\n",
    "      for i in range(start, end):\n",
    "        result.append((i, i+1))\n",
    "      result.append((end, start))\n",
    "      return result\n",
    "\n",
    "    info = triangle.MeshInfo()\n",
    "    info.set_points(points)\n",
    "    info.set_facets(round_trip_connect(0, len(points)-1))\n",
    "\n",
    "    mesh = triangle.build(info, max_volume=1e-3, min_angle=25)\n",
    "    \n",
    "\n",
    "    print(\"A\")\n",
    "    triangle.write_gnuplot_mesh(\"triangles.dat\", mesh)\n",
    "\n",
    "simpleSquare()"
   ]
  },
  {
   "cell_type": "code",
   "execution_count": 5,
   "metadata": {
    "scrolled": false
   },
   "outputs": [
    {
     "name": "stdout",
     "output_type": "stream",
     "text": [
      "Mesh Points:\n",
      "0 [0.0, 0.0, 0.0]\n",
      "1 [2.0, 0.0, 0.0]\n",
      "2 [2.0, 2.0, 0.0]\n",
      "3 [0.0, 2.0, 0.0]\n",
      "4 [0.0, 0.0, 12.0]\n",
      "5 [2.0, 0.0, 12.0]\n",
      "6 [2.0, 2.0, 12.0]\n",
      "7 [0.0, 2.0, 12.0]\n",
      "8 [2.0, 2.0, 6.0]\n",
      "9 [0.0, 0.0, 6.0]\n",
      "10 [0.0, 2.0, 6.0]\n",
      "11 [2.0, 0.0, 6.0]\n",
      "Point numbers in tetrahedra:\n",
      "0 [2, 10, 0, 8]\n",
      "1 [2, 0, 1, 8]\n",
      "2 [4, 11, 9, 8]\n",
      "3 [0, 10, 9, 8]\n",
      "4 [6, 10, 4, 7]\n",
      "5 [4, 11, 8, 5]\n",
      "6 [0, 11, 1, 8]\n",
      "7 [2, 10, 3, 0]\n",
      "8 [6, 10, 8, 4]\n",
      "9 [5, 4, 6, 8]\n",
      "10 [0, 11, 8, 9]\n",
      "11 [4, 10, 8, 9]\n"
     ]
    }
   ],
   "source": [
    "from meshpy.tet import MeshInfo, build \n",
    "\n",
    "mesh_info = MeshInfo()\n",
    "mesh_info.set_points([\n",
    "    (0,0,0), (2,0,0), (2,2,0), (0,2,0),\n",
    "    (0,0,12), (2,0,12), (2,2,12), (0,2,12),\n",
    "    ])\n",
    "mesh_info.set_facets([\n",
    "    [0,1,2,3],\n",
    "    [4,5,6,7],\n",
    "    [0,4,5,1],\n",
    "    [1,5,6,2],\n",
    "    [2,6,7,3],\n",
    "    [3,7,4,0],\n",
    "    ])\n",
    "mesh = build(mesh_info)\n",
    "print (\"Mesh Points:\")\n",
    "for i, p in enumerate(mesh.points):\n",
    "    print( i, p)\n",
    "print( \"Point numbers in tetrahedra:\")\n",
    "for i, t in enumerate(mesh.elements):\n",
    "    print( i, t)\n",
    "mesh.write_vtk(\"test.vtk\")\n"
   ]
  },
  {
   "cell_type": "markdown",
   "metadata": {},
   "source": [
    "***\n",
    "## Esfera"
   ]
  },
  {
   "cell_type": "code",
   "execution_count": 6,
   "metadata": {},
   "outputs": [],
   "source": [
    "from __future__ import absolute_import\n",
    "from six.moves import range\n",
    "def  ball():\n",
    "    from math import pi, cos, sin\n",
    "    from meshpy.tet import MeshInfo, build\n",
    "    from meshpy.geometry import \\\n",
    "            generate_surface_of_revolution, EXT_OPEN, \\\n",
    "            GeometryBuilder\n",
    "\n",
    "    r = 3\n",
    "\n",
    "    points = 10\n",
    "    dphi = pi/points\n",
    "\n",
    "    def truncate(r):\n",
    "        if abs(r) < 1e-10:\n",
    "            return 0\n",
    "        else:\n",
    "            return r\n",
    "\n",
    "    rz = [(truncate(r*sin(i*dphi)), r*cos(i*dphi)) for i in range(points+1)]\n",
    "\n",
    "    geob = GeometryBuilder()\n",
    "    geob.add_geometry(*generate_surface_of_revolution(rz,\n",
    "            closure=EXT_OPEN, radial_subdiv=10))\n",
    "\n",
    "    mesh_info = MeshInfo()\n",
    "    geob.set(mesh_info)\n",
    "\n",
    "    mesh = build(mesh_info)\n",
    "    mesh.write_vtk(\"ball.vtk\")\n",
    "    \n",
    "ball()"
   ]
  },
  {
   "cell_type": "markdown",
   "metadata": {},
   "source": [
    "***\n",
    "## Box in box"
   ]
  },
  {
   "cell_type": "code",
   "execution_count": 7,
   "metadata": {},
   "outputs": [
    {
     "name": "stdout",
     "output_type": "stream",
     "text": [
      "2731 elements\n"
     ]
    }
   ],
   "source": [
    "from __future__ import absolute_import\n",
    "from __future__ import print_function\n",
    "def boxInBox():\n",
    "    import numpy\n",
    "    from meshpy.tet import MeshInfo, build\n",
    "    from meshpy.geometry import GeometryBuilder, Marker, make_box\n",
    "\n",
    "    geob = GeometryBuilder()\n",
    "\n",
    "    box_marker = Marker.FIRST_USER_MARKER\n",
    "    extent_small = 0.3*numpy.ones(3, dtype=numpy.float64)\n",
    "    points, facets, _, _ = \\\n",
    "            make_box(-extent_small, extent_small)\n",
    "\n",
    "    geob.add_geometry(points, facets, facet_markers=box_marker)\n",
    "\n",
    "    points, facets, _, facet_markers = \\\n",
    "            make_box(numpy.array([-1, -1, -1]), numpy.array([1, 1, 5]))\n",
    "\n",
    "    geob.add_geometry(points, facets, facet_markers=facet_markers)\n",
    "\n",
    "    mesh_info = MeshInfo()\n",
    "    geob.set(mesh_info)\n",
    "    #mesh_info.set_holes([(0, 0, 0)])\n",
    "\n",
    "    # region attributes\n",
    "    mesh_info.regions.resize(1)\n",
    "    mesh_info.regions[0] = (\n",
    "            # point in region\n",
    "            [0, 0, 0] + [\n",
    "                # region number\n",
    "                1,\n",
    "                # max volume in region\n",
    "                0.001])\n",
    "\n",
    "    mesh = build(mesh_info, max_volume=0.06,\n",
    "            volume_constraints=True, attributes=True)\n",
    "    print((\"%d elements\" % len(mesh.elements)))\n",
    "    mesh.write_vtk(\"box-in-box.vtk\")\n",
    "    \n",
    "boxInBox()"
   ]
  },
  {
   "cell_type": "markdown",
   "metadata": {},
   "source": [
    "***\n",
    "## tetgen.tet"
   ]
  },
  {
   "cell_type": "code",
   "execution_count": 8,
   "metadata": {},
   "outputs": [],
   "source": [
    "def main():\n",
    "    from meshpy.tet import MeshInfo, build\n",
    "    from meshpy.geometry import \\\n",
    "            generate_surface_of_revolution, \\\n",
    "            GeometryBuilder\n",
    "\n",
    "    simple_rz = [\n",
    "        (0,0),\n",
    "        (1,1),\n",
    "        (1,2),\n",
    "        (0,3),\n",
    "        ]\n",
    "\n",
    "\n",
    "    geob = GeometryBuilder()\n",
    "    geob.add_geometry(*generate_surface_of_revolution(simple_rz))\n",
    "\n",
    "    mesh_info = MeshInfo()\n",
    "    geob.set(mesh_info)\n",
    "\n",
    "    #mesh_info.save_nodes(\"test\")\n",
    "    #mesh_info.save_poly(\"test\")\n",
    "    #mesh_info.load_poly(\"test\")\n",
    "    mesh = build(mesh_info)\n",
    "    mesh.write_vtk(\"my_mesh.vtk\")"
   ]
  },
  {
   "cell_type": "code",
   "execution_count": null,
   "metadata": {},
   "outputs": [],
   "source": []
  },
  {
   "cell_type": "code",
   "execution_count": null,
   "metadata": {},
   "outputs": [],
   "source": []
  },
  {
   "cell_type": "code",
   "execution_count": 31,
   "metadata": {},
   "outputs": [],
   "source": [
    "def cylinder():\n",
    "    from math import pi, cos, sin\n",
    "    from meshpy.tet import MeshInfo, build\n",
    "    from meshpy.geometry import \\\n",
    "            generate_surface_of_revolution, EXT_OPEN, \\\n",
    "            GeometryBuilder\n",
    "\n",
    "    r = 1\n",
    "    l = 1\n",
    "\n",
    "    rz = [(0,0), (r,0), (r,l), (0,l)]\n",
    "\n",
    "    geob = GeometryBuilder()\n",
    "    geob.add_geometry(*generate_surface_of_revolution(rz,\n",
    "            radial_subdiv=20, ring_markers=[1,2,3]))\n",
    "\n",
    "    mesh_info = MeshInfo()\n",
    "    geob.set(mesh_info)\n",
    "\n",
    "    mesh = build(mesh_info, max_volume=0.01)\n",
    "    mesh.write_vtk(\"cylinder.vtk\")\n",
    "    mesh.write_neu(open(\"cylinder.neu\", \"w\"), {\n",
    "        1: (\"minus_z\", 1),\n",
    "        2: (\"outer\", 2),\n",
    "        3: (\"plus_z\", 3),\n",
    "        })\n",
    "    \n",
    "cylinder()"
   ]
  },
  {
   "cell_type": "markdown",
   "metadata": {},
   "source": [
    "***"
   ]
  },
  {
   "cell_type": "code",
   "execution_count": 33,
   "metadata": {},
   "outputs": [
    {
     "data": {
      "image/png": "[encoded data removed]",
      "text/plain": [
       "<Figure size 432x288 with 1 Axes>"
      ]
     },
     "metadata": {
      "needs_background": "light"
     },
     "output_type": "display_data"
    }
   ],
   "source": [
    "from __future__ import division\n",
    "from __future__ import absolute_import\n",
    "\n",
    "import meshpy.triangle as triangle\n",
    "import numpy as np\n",
    "import numpy.linalg as la\n",
    "from six.moves import range\n",
    "\n",
    "\n",
    "def round_trip_connect(start, end):\n",
    "    return [(i, i+1) for i in range(start, end)] + [(end, start)]\n",
    "\n",
    "\n",
    "def trianglesss():\n",
    "    points = [(1, 0), (1, 1), (-1, 1), (-1, -1), (1, -1), (1, 0)]\n",
    "    facets = round_trip_connect(0, len(points)-1)\n",
    "\n",
    "    circ_start = len(points)\n",
    "    points.extend(\n",
    "            (3 * np.cos(angle), 3 * np.sin(angle))\n",
    "            for angle in np.linspace(0, 2*np.pi, 30, endpoint=False))\n",
    "\n",
    "    facets.extend(round_trip_connect(circ_start, len(points)-1))\n",
    "\n",
    "    def needs_refinement(vertices, area):\n",
    "        bary = np.sum(np.array(vertices), axis=0)/3\n",
    "        max_area = 0.001 + (la.norm(bary, np.inf)-1)*0.01\n",
    "        return bool(area > max_area)\n",
    "\n",
    "    info = triangle.MeshInfo()\n",
    "    info.set_points(points)\n",
    "    info.set_holes([(0, 0)])\n",
    "    info.set_facets(facets)\n",
    "\n",
    "    mesh = triangle.build(info, refinement_func=needs_refinement)\n",
    "\n",
    "    mesh_points = np.array(mesh.points)\n",
    "    mesh_tris = np.array(mesh.elements)\n",
    "\n",
    "    import matplotlib.pyplot as pt\n",
    "    %matplotlib inline\n",
    "    pt.triplot(mesh_points[:, 0], mesh_points[:, 1], mesh_tris)\n",
    "    pt.show()\n",
    "    \n",
    "trianglesss()"
   ]
  },
  {
   "cell_type": "code",
   "execution_count": 48,
   "metadata": {},
   "outputs": [
    {
     "name": "stdout",
     "output_type": "stream",
     "text": [
      "30389 elements\n"
     ]
    }
   ],
   "source": [
    "from __future__ import absolute_import\n",
    "from __future__ import print_function\n",
    "from six.moves import zip\n",
    "def airFoil():\n",
    "    import numpy\n",
    "    #from math import pi, cos, sin\n",
    "    from meshpy.tet import MeshInfo, build\n",
    "    from meshpy.geometry import GeometryBuilder, Marker, \\\n",
    "            generate_extrusion, make_box\n",
    "\n",
    "    from meshpy.naca import get_naca_points\n",
    "\n",
    "    geob = GeometryBuilder()\n",
    "\n",
    "    box_marker = Marker.FIRST_USER_MARKER\n",
    "\n",
    "    wing_length = 2\n",
    "    wing_subdiv = 5\n",
    "\n",
    "    rz_points = [\n",
    "            (0, -wing_length*1.05),\n",
    "            (0.7, -wing_length*1.05),\n",
    "            ] + [\n",
    "                (r, x) for x, r in zip(\n",
    "                    numpy.linspace(-wing_length, 0, wing_subdiv, endpoint=False),\n",
    "                    numpy.linspace(0.8, 1, wing_subdiv, endpoint=False))\n",
    "            ] + [(1, 0)] + [\n",
    "                (r, x) for x, r in zip(\n",
    "                    numpy.linspace(wing_length, 0, wing_subdiv, endpoint=False),\n",
    "                    numpy.linspace(0.8, 1, wing_subdiv, endpoint=False))\n",
    "            ][::-1] + [\n",
    "            (0.7, wing_length*1.05),\n",
    "            (0, wing_length*1.05)\n",
    "            ]\n",
    "\n",
    "    geob.add_geometry(*generate_extrusion(\n",
    "        rz_points=rz_points,\n",
    "        base_shape=get_naca_points(\"0012\", verbose=False, number_of_points=20),\n",
    "        ring_markers=(wing_subdiv*2+4)*[box_marker]))\n",
    "\n",
    "    from meshpy.tools import make_swizzle_matrix\n",
    "    swizzle_matrix = make_swizzle_matrix(\"z:x,y:y,x:z\")\n",
    "    geob.apply_transform(lambda p: numpy.dot(swizzle_matrix, p))\n",
    "\n",
    "    def deform_wing(p):\n",
    "        x, y, z = p\n",
    "        return numpy.array([\n",
    "            x,\n",
    "            y + 0.1*abs(x/wing_length)**2,\n",
    "            z + 0.8*abs(x/wing_length) ** 1.2])\n",
    "\n",
    "    geob.apply_transform(deform_wing)\n",
    "\n",
    "    points, facets, _, facet_markers = make_box(\n",
    "            numpy.array([-wing_length-1, -1, -1.5]),\n",
    "            numpy.array([wing_length+1, 1, 3]))\n",
    "\n",
    "    geob.add_geometry(points, facets, facet_markers=facet_markers)\n",
    "\n",
    "    mesh_info = MeshInfo()\n",
    "    geob.set(mesh_info)\n",
    "    mesh_info.set_holes([(0, 0, 0.5)])\n",
    "\n",
    "    mesh = build(mesh_info)\n",
    "    print(\"%d elements\" % len(mesh.elements))\n",
    "    mesh.write_vtk(\"airfoil3d.vtk\")\n",
    "    \n",
    "airFoil()"
   ]
  },
  {
   "cell_type": "code",
   "execution_count": 25,
   "metadata": {},
   "outputs": [
    {
     "data": {
      "text/plain": [
       "[5, 100, 100, 100, 100, 100, 100, 100, 100, 100, 100, 6]"
      ]
     },
     "execution_count": 25,
     "metadata": {},
     "output_type": "execute_result"
    }
   ],
   "source": [
    "import meshpy\n",
    "\n",
    "radius=10\n",
    "height=30\n",
    "cilinder=meshpy.geometry.make_cylinder(radius, height, radial_subdivisions=10, height_subdivisions=1)\n",
    "cilinder[3]"
   ]
  },
  {
   "cell_type": "markdown",
   "metadata": {},
   "source": [
    "***\n",
    "# gmsh_interop\n",
    "*Latest version, Released: Feb 12, 2019*\n",
    "\n",
    "    pip install gmsh_interop\n",
    " \n",
    " "
   ]
  },
  {
   "cell_type": "markdown",
   "metadata": {},
   "source": [
    "## PyMesh\n",
    "\n",
    "[pyMesh](https://pymesh.readthedocs.io/en/latest/)"
   ]
  },
  {
   "cell_type": "code",
   "execution_count": 14,
   "metadata": {},
   "outputs": [],
   "source": [
    "import pybind11\n"
   ]
  },
  {
   "cell_type": "code",
   "execution_count": 3,
   "metadata": {},
   "outputs": [
    {
     "name": "stdout",
     "output_type": "stream",
     "text": [
      "Collecting pymesh\n",
      "Requirement already satisfied: numpy in /opt/anaconda3/lib/python3.7/site-packages (from pymesh) (1.17.2)\n",
      "Installing collected packages: pymesh\n",
      "Successfully installed pymesh-1.0.2\n"
     ]
    }
   ],
   "source": [
    "\n",
    "!pip install pymesh --user\n",
    "\n"
   ]
  },
  {
   "cell_type": "code",
   "execution_count": 55,
   "metadata": {},
   "outputs": [],
   "source": []
  },
  {
   "cell_type": "code",
   "execution_count": 51,
   "metadata": {},
   "outputs": [
    {
     "name": "stdout",
     "output_type": "stream",
     "text": [
      "Collecting meshio\n",
      "\u001b[?25l  Downloading https://files.pythonhosted.org/packages/88/25/72ff2434c0e1fa46fc2666f74ec6090d5eec9e49a0fa7e600d7dbc231c43/meshio-4.0.8-py3-none-any.whl (126kB)\n",
      "\u001b[K     |████████████████████████████████| 133kB 270kB/s eta 0:00:01\n",
      "\u001b[?25hRequirement already satisfied: numpy in /home/user/anaconda3/lib/python3.7/site-packages (from meshio) (1.17.2)\n",
      "Installing collected packages: meshio\n",
      "Successfully installed meshio-4.0.8\n"
     ]
    }
   ],
   "source": [
    "!pip install meshio\n"
   ]
  },
  {
   "cell_type": "code",
   "execution_count": null,
   "metadata": {},
   "outputs": [],
   "source": []
  }
 ],
 "metadata": {
  "kernelspec": {
   "display_name": "Python 3",
   "language": "python",
   "name": "python3"
  },
  "language_info": {
   "codemirror_mode": {
    "name": "ipython",
    "version": 3
   },
   "file_extension": ".py",
   "mimetype": "text/x-python",
   "name": "python",
   "nbconvert_exporter": "python",
   "pygments_lexer": "ipython3",
   "version": "3.7.9"
  },
  "varInspector": {
   "cols": {
    "lenName": 16,
    "lenType": 16,
    "lenVar": 40
   },
   "kernels_config": {
    "python": {
     "delete_cmd_postfix": "",
     "delete_cmd_prefix": "del ",
     "library": "var_list.py",
     "varRefreshCmd": "print(var_dic_list())"
    },
    "r": {
     "delete_cmd_postfix": ") ",
     "delete_cmd_prefix": "rm(",
     "library": "var_list.r",
     "varRefreshCmd": "cat(var_dic_list()) "
    }
   },
   "types_to_exclude": [
    "module",
    "function",
    "builtin_function_or_method",
    "instance",
    "_Feature"
   ],
   "window_display": false
  }
 },
 "nbformat": 4,
 "nbformat_minor": 2
}
