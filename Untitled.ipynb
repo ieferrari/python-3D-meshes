{
 "cells": [
  {
   "cell_type": "code",
   "execution_count": 7,
   "metadata": {},
   "outputs": [
    {
     "name": "stdout",
     "output_type": "stream",
     "text": [
      "-f doesn't look like a vtk file, won't convert\n",
      "/home/user/.local/share/jupyter/runtime/kernel-3ceff57c-4ef5-4097-bce5-9b9b56b9707c.json doesn't look like a vtk file, won't convert\n"
     ]
    }
   ],
   "source": [
    "#!/usr/bin/env python\n",
    "\"\"\"File format conversion\n",
    "category: vtk, file conversion, tomb\"\"\"\n",
    "import os, sys\n",
    "import vtk\n",
    "\n",
    "invtkfile='./tubes.vtk'\n",
    "outvtpfile ='tubes.vtp'\n",
    "\n",
    "def vtk2vtp(invtkfile, outvtpfile, binary=False):\n",
    "    \"\"\"What it says on the label\"\"\"\n",
    "    reader = vtk.vtkPolyDataReader()\n",
    "    reader.SetFileName(invtkfile)\n",
    "\n",
    "    writer = vtk.vtkXMLPolyDataWriter()\n",
    "    writer.SetFileName(outvtpfile)\n",
    "    if binary:\n",
    "        writer.SetFileTypeToBinary()\n",
    "    writer.SetInput(reader.GetOutput())\n",
    "    writer.Update()\n",
    "\n",
    "if __name__ == '__main__':\n",
    "    args = sys.argv\n",
    "    binary = False\n",
    "    if '-b' in args:\n",
    "        args.remove('-b')\n",
    "        binary = True\n",
    "    if len(args) < 2:\n",
    "        print('Batch converts vtk files to vtp files.\\nUsage:\\n    vtk2vtp.py model1.vtk model2.vtk ...')\n",
    "        print('    [-b] causes output to be in binary format, much smaller vtp file size, if it happens to work')\n",
    "        sys.exit()\n",
    "    infiles = args[1:]\n",
    "    for vtkfile in infiles:\n",
    "        if vtkfile[-4:] != '.vtk':\n",
    "            print (vtkfile, \"doesn't look like a vtk file, won't convert\")\n",
    "            continue\n",
    "        vtk2vtp(vtkfile, vtkfile[:-4]+'.vtp', binary=binary)"
   ]
  },
  {
   "cell_type": "code",
   "execution_count": 19,
   "metadata": {},
   "outputs": [],
   "source": [
    "invtkfile='./tubes.vtk'\n",
    "outvtpfile ='./tubes.vtp'\n",
    "reader = vtk.vtkPolyDataReader()\n",
    "reader.SetFileName(invtkfile)"
   ]
  },
  {
   "cell_type": "code",
   "execution_count": 20,
   "metadata": {},
   "outputs": [],
   "source": [
    "writer = vtk.vtkXMLPolyDataWriter()\n",
    "writer.SetFileName(outvtpfile)\n",
    "writer.SetInputData(reader.GetOutput())\n",
    "writer.Update()"
   ]
  },
  {
   "cell_type": "code",
   "execution_count": 11,
   "metadata": {},
   "outputs": [
    {
     "ename": "AttributeError",
     "evalue": "'vtkmodules.vtkIOXML.vtkXMLPolyDataWriter' object has no attribute 'SetInput'",
     "output_type": "error",
     "traceback": [
      "\u001b[0;31m---------------------------------------------------------------------------\u001b[0m",
      "\u001b[0;31mAttributeError\u001b[0m                            Traceback (most recent call last)",
      "\u001b[0;32m<ipython-input-11-9b101489cedd>\u001b[0m in \u001b[0;36m<module>\u001b[0;34m\u001b[0m\n\u001b[0;32m----> 1\u001b[0;31m \u001b[0mwriter\u001b[0m\u001b[0;34m.\u001b[0m\u001b[0mSetInput\u001b[0m\u001b[0;34m(\u001b[0m\u001b[0mreader\u001b[0m\u001b[0;34m.\u001b[0m\u001b[0mGetOutput\u001b[0m\u001b[0;34m(\u001b[0m\u001b[0;34m)\u001b[0m\u001b[0;34m)\u001b[0m\u001b[0;34m\u001b[0m\u001b[0;34m\u001b[0m\u001b[0m\n\u001b[0m",
      "\u001b[0;31mAttributeError\u001b[0m: 'vtkmodules.vtkIOXML.vtkXMLPolyDataWriter' object has no attribute 'SetInput'"
     ]
    }
   ],
   "source": []
  },
  {
   "cell_type": "code",
   "execution_count": null,
   "metadata": {},
   "outputs": [],
   "source": []
  }
 ],
 "metadata": {
  "kernelspec": {
   "display_name": "Python 3",
   "language": "python",
   "name": "python3"
  },
  "language_info": {
   "codemirror_mode": {
    "name": "ipython",
    "version": 3
   },
   "file_extension": ".py",
   "mimetype": "text/x-python",
   "name": "python",
   "nbconvert_exporter": "python",
   "pygments_lexer": "ipython3",
   "version": "3.7.9"
  },
  "varInspector": {
   "cols": {
    "lenName": 16,
    "lenType": 16,
    "lenVar": 40
   },
   "kernels_config": {
    "python": {
     "delete_cmd_postfix": "",
     "delete_cmd_prefix": "del ",
     "library": "var_list.py",
     "varRefreshCmd": "print(var_dic_list())"
    },
    "r": {
     "delete_cmd_postfix": ") ",
     "delete_cmd_prefix": "rm(",
     "library": "var_list.r",
     "varRefreshCmd": "cat(var_dic_list()) "
    }
   },
   "types_to_exclude": [
    "module",
    "function",
    "builtin_function_or_method",
    "instance",
    "_Feature"
   ],
   "window_display": true
  }
 },
 "nbformat": 4,
 "nbformat_minor": 4
}
