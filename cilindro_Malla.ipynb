{
 "cells": [
  {
   "cell_type": "markdown",
   "metadata": {
    "slideshow": {
     "slide_type": "slide"
    }
   },
   "source": [
    "# Función para crear la malla de un cilindro\n",
    "\n",
    "Suponga que quiero crear un cilindoro de altura $h$ y radio $R$. \n",
    "\n",
    "    [imagen cilindro altura y radio]\n",
    "\n",
    "Vamos a definir un nivel de subdivión $k$, que nos indicará que tan fina será la malla. Una malla más fina tiene más elementos para definir la misma superficie.\n",
    "\n",
    "    [imagen cilindro malla fina y gruesa]\n",
    "\n",
    "Consideraremos un primer anillo de este cilindro y vamos a definir que cada anillo tiene una cantidad de nodos definida por:\n",
    "\n",
    " $$N_t= 2^{2+k}$$\n",
    " \n",
    " De esta forma tenemos que cada punto del anillo está separado por un ángulo (en radianes) que llamaremos $dt$:\n",
    " \n",
    " $$d_t=\\frac{2\\pi}{N_t}$$\n"
   ]
  },
  {
   "cell_type": "code",
   "execution_count": 1,
   "metadata": {
    "slideshow": {
     "slide_type": "fragment"
    }
   },
   "outputs": [
    {
     "data": {
      "text/plain": [
       "(32, 0.19634954084936207)"
      ]
     },
     "execution_count": 1,
     "metadata": {},
     "output_type": "execute_result"
    }
   ],
   "source": [
    "from numpy import *\n",
    "R=4\n",
    "h=10\n",
    "K=3\n",
    "Nt=2**(2+K)\n",
    "dt=2*pi/Nt\n",
    "Nt, dt"
   ]
  },
  {
   "cell_type": "markdown",
   "metadata": {
    "slideshow": {
     "slide_type": "slide"
    }
   },
   "source": [
    "En general buscamos que la malla generada tenga alta isotropía, por esto los tiangulos generados deben ser los más cercano a un triángulo equilátero. El número de anillos determina la altura de cada triángulo.\n",
    "\n",
    "El lado de cada triángulo está dado por:\n",
    "$$R.sin(d_t)$$\n",
    "\n",
    "Para generar un triángulo equilátero buscamos una altura similar a:\n",
    "$$ h_{eqi}=[R\\sin(d_t)] . \\sin (\\pi/3)$$\n",
    "\n",
    "Debido a que la altura $h$ se ha fijado al inicial el problema, podemos obtener el número de anillos dividiendo esa altura total por la altura ideal del triańgulo equilátero. Hay que considerar que ese valor deve ser entero, por lo que se redondea al entero superior, y además se debe agregar un \"techo\" por lo que se suma 1, entonces tenemos el número de anillos $N_z$:\n",
    "$$N_z= ceil  \\left( \\frac{h}{h_{eqi}} +1 \\right)$$\n",
    "\n",
    "\n",
    "De este modo obtenemos la altura final de cada tríangulo $d_z$, es decir la separación de cada anillo.\n",
    "$$d_z =\\frac{h}{N_z -1} $$\n"
   ]
  },
  {
   "cell_type": "code",
   "execution_count": 2,
   "metadata": {
    "slideshow": {
     "slide_type": "fragment"
    }
   },
   "outputs": [
    {
     "data": {
      "text/plain": [
       "(16, 0.6666666666666666, 0.6758126995938145)"
      ]
     },
     "execution_count": 2,
     "metadata": {},
     "output_type": "execute_result"
    }
   ],
   "source": [
    "h_eq=(sin(dt)*R*sin(pi/3))\n",
    "Nz = int(ceil(h/h_eq + 1))\n",
    "dz = h/(Nz-1);\n",
    "\n",
    "Nz,dz, h_eq"
   ]
  },
  {
   "cell_type": "markdown",
   "metadata": {
    "slideshow": {
     "slide_type": "fragment"
    }
   },
   "source": [
    "Podemos ver que la diferncia entre el valor de altura ideal para cáda triángulo $h_eq$ y el que se usa finalmente $d_z$ es muy pequeña."
   ]
  },
  {
   "cell_type": "markdown",
   "metadata": {
    "slideshow": {
     "slide_type": "slide"
    }
   },
   "source": [
    "## Obetniendo cada punto de cada anillo\n",
    "\n",
    "Ahora para con estos datos debemos obtener todos los puntos de la malla que representará la superficie del cilindro"
   ]
  },
  {
   "cell_type": "code",
   "execution_count": 3,
   "metadata": {
    "slideshow": {
     "slide_type": "fragment"
    }
   },
   "outputs": [],
   "source": [
    "L0 = -0.5 * h                                  # para que el cilindro quede centrado\n",
    "\n",
    "X = zeros([Nt*Nz,3])\n",
    "\n",
    "ptId = 0\n",
    "for i in range(0, Nz):                         # para cada anillo\n",
    "    for j in range(0, Nt):                     # para cada punto del anillo\n",
    "        theta = dt * (j + 0.5*mod(i,2))\n",
    "        X[ptId,0] = R * cos(theta)\n",
    "        X[ptId,1] = R * sin(theta)\n",
    "        X[ptId,2] = (i*dz) + L0 \n",
    "        ptId = ptId+1"
   ]
  },
  {
   "cell_type": "markdown",
   "metadata": {
    "slideshow": {
     "slide_type": "slide"
    }
   },
   "source": [
    "## Graficando los puntos obtenidos"
   ]
  },
  {
   "cell_type": "code",
   "execution_count": 16,
   "metadata": {
    "slideshow": {
     "slide_type": "fragment"
    }
   },
   "outputs": [
    {
     "data": {
      "application/javascript": [
       "/* Put everything inside the global mpl namespace */\n",
       "window.mpl = {};\n",
       "\n",
       "\n",
       "mpl.get_websocket_type = function() {\n",
       "    if (typeof(WebSocket) !== 'undefined') {\n",
       "        return WebSocket;\n",
       "    } else if (typeof(MozWebSocket) !== 'undefined') {\n",
       "        return MozWebSocket;\n",
       "    } else {\n",
       "        alert('Your browser does not have WebSocket support. ' +\n",
       "              'Please try Chrome, Safari or Firefox ≥ 6. ' +\n",
       "              'Firefox 4 and 5 are also supported but you ' +\n",
       "              'have to enable WebSockets in about:config.');\n",
       "    };\n",
       "}\n",
       "\n",
       "mpl.figure = function(figure_id, websocket, ondownload, parent_element) {\n",
       "    this.id = figure_id;\n",
       "\n",
       "    this.ws = websocket;\n",
       "\n",
       "    this.supports_binary = (this.ws.binaryType != undefined);\n",
       "\n",
       "    if (!this.supports_binary) {\n",
       "        var warnings = document.getElementById(\"mpl-warnings\");\n",
       "        if (warnings) {\n",
       "            warnings.style.display = 'block';\n",
       "            warnings.textContent = (\n",
       "                \"This browser does not support binary websocket messages. \" +\n",
       "                    \"Performance may be slow.\");\n",
       "        }\n",
       "    }\n",
       "\n",
       "    this.imageObj = new Image();\n",
       "\n",
       "    this.context = undefined;\n",
       "    this.message = undefined;\n",
       "    this.canvas = undefined;\n",
       "    this.rubberband_canvas = undefined;\n",
       "    this.rubberband_context = undefined;\n",
       "    this.format_dropdown = undefined;\n",
       "\n",
       "    this.image_mode = 'full';\n",
       "\n",
       "    this.root = $('<div/>');\n",
       "    this._root_extra_style(this.root)\n",
       "    this.root.attr('style', 'display: inline-block');\n",
       "\n",
       "    $(parent_element).append(this.root);\n",
       "\n",
       "    this._init_header(this);\n",
       "    this._init_canvas(this);\n",
       "    this._init_toolbar(this);\n",
       "\n",
       "    var fig = this;\n",
       "\n",
       "    this.waiting = false;\n",
       "\n",
       "    this.ws.onopen =  function () {\n",
       "            fig.send_message(\"supports_binary\", {value: fig.supports_binary});\n",
       "            fig.send_message(\"send_image_mode\", {});\n",
       "            if (mpl.ratio != 1) {\n",
       "                fig.send_message(\"set_dpi_ratio\", {'dpi_ratio': mpl.ratio});\n",
       "            }\n",
       "            fig.send_message(\"refresh\", {});\n",
       "        }\n",
       "\n",
       "    this.imageObj.onload = function() {\n",
       "            if (fig.image_mode == 'full') {\n",
       "                // Full images could contain transparency (where diff images\n",
       "                // almost always do), so we need to clear the canvas so that\n",
       "                // there is no ghosting.\n",
       "                fig.context.clearRect(0, 0, fig.canvas.width, fig.canvas.height);\n",
       "            }\n",
       "            fig.context.drawImage(fig.imageObj, 0, 0);\n",
       "        };\n",
       "\n",
       "    this.imageObj.onunload = function() {\n",
       "        fig.ws.close();\n",
       "    }\n",
       "\n",
       "    this.ws.onmessage = this._make_on_message_function(this);\n",
       "\n",
       "    this.ondownload = ondownload;\n",
       "}\n",
       "\n",
       "mpl.figure.prototype._init_header = function() {\n",
       "    var titlebar = $(\n",
       "        '<div class=\"ui-dialog-titlebar ui-widget-header ui-corner-all ' +\n",
       "        'ui-helper-clearfix\"/>');\n",
       "    var titletext = $(\n",
       "        '<div class=\"ui-dialog-title\" style=\"width: 100%; ' +\n",
       "        'text-align: center; padding: 3px;\"/>');\n",
       "    titlebar.append(titletext)\n",
       "    this.root.append(titlebar);\n",
       "    this.header = titletext[0];\n",
       "}\n",
       "\n",
       "\n",
       "\n",
       "mpl.figure.prototype._canvas_extra_style = function(canvas_div) {\n",
       "\n",
       "}\n",
       "\n",
       "\n",
       "mpl.figure.prototype._root_extra_style = function(canvas_div) {\n",
       "\n",
       "}\n",
       "\n",
       "mpl.figure.prototype._init_canvas = function() {\n",
       "    var fig = this;\n",
       "\n",
       "    var canvas_div = $('<div/>');\n",
       "\n",
       "    canvas_div.attr('style', 'position: relative; clear: both; outline: 0');\n",
       "\n",
       "    function canvas_keyboard_event(event) {\n",
       "        return fig.key_event(event, event['data']);\n",
       "    }\n",
       "\n",
       "    canvas_div.keydown('key_press', canvas_keyboard_event);\n",
       "    canvas_div.keyup('key_release', canvas_keyboard_event);\n",
       "    this.canvas_div = canvas_div\n",
       "    this._canvas_extra_style(canvas_div)\n",
       "    this.root.append(canvas_div);\n",
       "\n",
       "    var canvas = $('<canvas/>');\n",
       "    canvas.addClass('mpl-canvas');\n",
       "    canvas.attr('style', \"left: 0; top: 0; z-index: 0; outline: 0\")\n",
       "\n",
       "    this.canvas = canvas[0];\n",
       "    this.context = canvas[0].getContext(\"2d\");\n",
       "\n",
       "    var backingStore = this.context.backingStorePixelRatio ||\n",
       "\tthis.context.webkitBackingStorePixelRatio ||\n",
       "\tthis.context.mozBackingStorePixelRatio ||\n",
       "\tthis.context.msBackingStorePixelRatio ||\n",
       "\tthis.context.oBackingStorePixelRatio ||\n",
       "\tthis.context.backingStorePixelRatio || 1;\n",
       "\n",
       "    mpl.ratio = (window.devicePixelRatio || 1) / backingStore;\n",
       "\n",
       "    var rubberband = $('<canvas/>');\n",
       "    rubberband.attr('style', \"position: absolute; left: 0; top: 0; z-index: 1;\")\n",
       "\n",
       "    var pass_mouse_events = true;\n",
       "\n",
       "    canvas_div.resizable({\n",
       "        start: function(event, ui) {\n",
       "            pass_mouse_events = false;\n",
       "        },\n",
       "        resize: function(event, ui) {\n",
       "            fig.request_resize(ui.size.width, ui.size.height);\n",
       "        },\n",
       "        stop: function(event, ui) {\n",
       "            pass_mouse_events = true;\n",
       "            fig.request_resize(ui.size.width, ui.size.height);\n",
       "        },\n",
       "    });\n",
       "\n",
       "    function mouse_event_fn(event) {\n",
       "        if (pass_mouse_events)\n",
       "            return fig.mouse_event(event, event['data']);\n",
       "    }\n",
       "\n",
       "    rubberband.mousedown('button_press', mouse_event_fn);\n",
       "    rubberband.mouseup('button_release', mouse_event_fn);\n",
       "    // Throttle sequential mouse events to 1 every 20ms.\n",
       "    rubberband.mousemove('motion_notify', mouse_event_fn);\n",
       "\n",
       "    rubberband.mouseenter('figure_enter', mouse_event_fn);\n",
       "    rubberband.mouseleave('figure_leave', mouse_event_fn);\n",
       "\n",
       "    canvas_div.on(\"wheel\", function (event) {\n",
       "        event = event.originalEvent;\n",
       "        event['data'] = 'scroll'\n",
       "        if (event.deltaY < 0) {\n",
       "            event.step = 1;\n",
       "        } else {\n",
       "            event.step = -1;\n",
       "        }\n",
       "        mouse_event_fn(event);\n",
       "    });\n",
       "\n",
       "    canvas_div.append(canvas);\n",
       "    canvas_div.append(rubberband);\n",
       "\n",
       "    this.rubberband = rubberband;\n",
       "    this.rubberband_canvas = rubberband[0];\n",
       "    this.rubberband_context = rubberband[0].getContext(\"2d\");\n",
       "    this.rubberband_context.strokeStyle = \"#000000\";\n",
       "\n",
       "    this._resize_canvas = function(width, height) {\n",
       "        // Keep the size of the canvas, canvas container, and rubber band\n",
       "        // canvas in synch.\n",
       "        canvas_div.css('width', width)\n",
       "        canvas_div.css('height', height)\n",
       "\n",
       "        canvas.attr('width', width * mpl.ratio);\n",
       "        canvas.attr('height', height * mpl.ratio);\n",
       "        canvas.attr('style', 'width: ' + width + 'px; height: ' + height + 'px;');\n",
       "\n",
       "        rubberband.attr('width', width);\n",
       "        rubberband.attr('height', height);\n",
       "    }\n",
       "\n",
       "    // Set the figure to an initial 600x600px, this will subsequently be updated\n",
       "    // upon first draw.\n",
       "    this._resize_canvas(600, 600);\n",
       "\n",
       "    // Disable right mouse context menu.\n",
       "    $(this.rubberband_canvas).bind(\"contextmenu\",function(e){\n",
       "        return false;\n",
       "    });\n",
       "\n",
       "    function set_focus () {\n",
       "        canvas.focus();\n",
       "        canvas_div.focus();\n",
       "    }\n",
       "\n",
       "    window.setTimeout(set_focus, 100);\n",
       "}\n",
       "\n",
       "mpl.figure.prototype._init_toolbar = function() {\n",
       "    var fig = this;\n",
       "\n",
       "    var nav_element = $('<div/>');\n",
       "    nav_element.attr('style', 'width: 100%');\n",
       "    this.root.append(nav_element);\n",
       "\n",
       "    // Define a callback function for later on.\n",
       "    function toolbar_event(event) {\n",
       "        return fig.toolbar_button_onclick(event['data']);\n",
       "    }\n",
       "    function toolbar_mouse_event(event) {\n",
       "        return fig.toolbar_button_onmouseover(event['data']);\n",
       "    }\n",
       "\n",
       "    for(var toolbar_ind in mpl.toolbar_items) {\n",
       "        var name = mpl.toolbar_items[toolbar_ind][0];\n",
       "        var tooltip = mpl.toolbar_items[toolbar_ind][1];\n",
       "        var image = mpl.toolbar_items[toolbar_ind][2];\n",
       "        var method_name = mpl.toolbar_items[toolbar_ind][3];\n",
       "\n",
       "        if (!name) {\n",
       "            // put a spacer in here.\n",
       "            continue;\n",
       "        }\n",
       "        var button = $('<button/>');\n",
       "        button.addClass('ui-button ui-widget ui-state-default ui-corner-all ' +\n",
       "                        'ui-button-icon-only');\n",
       "        button.attr('role', 'button');\n",
       "        button.attr('aria-disabled', 'false');\n",
       "        button.click(method_name, toolbar_event);\n",
       "        button.mouseover(tooltip, toolbar_mouse_event);\n",
       "\n",
       "        var icon_img = $('<span/>');\n",
       "        icon_img.addClass('ui-button-icon-primary ui-icon');\n",
       "        icon_img.addClass(image);\n",
       "        icon_img.addClass('ui-corner-all');\n",
       "\n",
       "        var tooltip_span = $('<span/>');\n",
       "        tooltip_span.addClass('ui-button-text');\n",
       "        tooltip_span.html(tooltip);\n",
       "\n",
       "        button.append(icon_img);\n",
       "        button.append(tooltip_span);\n",
       "\n",
       "        nav_element.append(button);\n",
       "    }\n",
       "\n",
       "    var fmt_picker_span = $('<span/>');\n",
       "\n",
       "    var fmt_picker = $('<select/>');\n",
       "    fmt_picker.addClass('mpl-toolbar-option ui-widget ui-widget-content');\n",
       "    fmt_picker_span.append(fmt_picker);\n",
       "    nav_element.append(fmt_picker_span);\n",
       "    this.format_dropdown = fmt_picker[0];\n",
       "\n",
       "    for (var ind in mpl.extensions) {\n",
       "        var fmt = mpl.extensions[ind];\n",
       "        var option = $(\n",
       "            '<option/>', {selected: fmt === mpl.default_extension}).html(fmt);\n",
       "        fmt_picker.append(option);\n",
       "    }\n",
       "\n",
       "    // Add hover states to the ui-buttons\n",
       "    $( \".ui-button\" ).hover(\n",
       "        function() { $(this).addClass(\"ui-state-hover\");},\n",
       "        function() { $(this).removeClass(\"ui-state-hover\");}\n",
       "    );\n",
       "\n",
       "    var status_bar = $('<span class=\"mpl-message\"/>');\n",
       "    nav_element.append(status_bar);\n",
       "    this.message = status_bar[0];\n",
       "}\n",
       "\n",
       "mpl.figure.prototype.request_resize = function(x_pixels, y_pixels) {\n",
       "    // Request matplotlib to resize the figure. Matplotlib will then trigger a resize in the client,\n",
       "    // which will in turn request a refresh of the image.\n",
       "    this.send_message('resize', {'width': x_pixels, 'height': y_pixels});\n",
       "}\n",
       "\n",
       "mpl.figure.prototype.send_message = function(type, properties) {\n",
       "    properties['type'] = type;\n",
       "    properties['figure_id'] = this.id;\n",
       "    this.ws.send(JSON.stringify(properties));\n",
       "}\n",
       "\n",
       "mpl.figure.prototype.send_draw_message = function() {\n",
       "    if (!this.waiting) {\n",
       "        this.waiting = true;\n",
       "        this.ws.send(JSON.stringify({type: \"draw\", figure_id: this.id}));\n",
       "    }\n",
       "}\n",
       "\n",
       "\n",
       "mpl.figure.prototype.handle_save = function(fig, msg) {\n",
       "    var format_dropdown = fig.format_dropdown;\n",
       "    var format = format_dropdown.options[format_dropdown.selectedIndex].value;\n",
       "    fig.ondownload(fig, format);\n",
       "}\n",
       "\n",
       "\n",
       "mpl.figure.prototype.handle_resize = function(fig, msg) {\n",
       "    var size = msg['size'];\n",
       "    if (size[0] != fig.canvas.width || size[1] != fig.canvas.height) {\n",
       "        fig._resize_canvas(size[0], size[1]);\n",
       "        fig.send_message(\"refresh\", {});\n",
       "    };\n",
       "}\n",
       "\n",
       "mpl.figure.prototype.handle_rubberband = function(fig, msg) {\n",
       "    var x0 = msg['x0'] / mpl.ratio;\n",
       "    var y0 = (fig.canvas.height - msg['y0']) / mpl.ratio;\n",
       "    var x1 = msg['x1'] / mpl.ratio;\n",
       "    var y1 = (fig.canvas.height - msg['y1']) / mpl.ratio;\n",
       "    x0 = Math.floor(x0) + 0.5;\n",
       "    y0 = Math.floor(y0) + 0.5;\n",
       "    x1 = Math.floor(x1) + 0.5;\n",
       "    y1 = Math.floor(y1) + 0.5;\n",
       "    var min_x = Math.min(x0, x1);\n",
       "    var min_y = Math.min(y0, y1);\n",
       "    var width = Math.abs(x1 - x0);\n",
       "    var height = Math.abs(y1 - y0);\n",
       "\n",
       "    fig.rubberband_context.clearRect(\n",
       "        0, 0, fig.canvas.width / mpl.ratio, fig.canvas.height / mpl.ratio);\n",
       "\n",
       "    fig.rubberband_context.strokeRect(min_x, min_y, width, height);\n",
       "}\n",
       "\n",
       "mpl.figure.prototype.handle_figure_label = function(fig, msg) {\n",
       "    // Updates the figure title.\n",
       "    fig.header.textContent = msg['label'];\n",
       "}\n",
       "\n",
       "mpl.figure.prototype.handle_cursor = function(fig, msg) {\n",
       "    var cursor = msg['cursor'];\n",
       "    switch(cursor)\n",
       "    {\n",
       "    case 0:\n",
       "        cursor = 'pointer';\n",
       "        break;\n",
       "    case 1:\n",
       "        cursor = 'default';\n",
       "        break;\n",
       "    case 2:\n",
       "        cursor = 'crosshair';\n",
       "        break;\n",
       "    case 3:\n",
       "        cursor = 'move';\n",
       "        break;\n",
       "    }\n",
       "    fig.rubberband_canvas.style.cursor = cursor;\n",
       "}\n",
       "\n",
       "mpl.figure.prototype.handle_message = function(fig, msg) {\n",
       "    fig.message.textContent = msg['message'];\n",
       "}\n",
       "\n",
       "mpl.figure.prototype.handle_draw = function(fig, msg) {\n",
       "    // Request the server to send over a new figure.\n",
       "    fig.send_draw_message();\n",
       "}\n",
       "\n",
       "mpl.figure.prototype.handle_image_mode = function(fig, msg) {\n",
       "    fig.image_mode = msg['mode'];\n",
       "}\n",
       "\n",
       "mpl.figure.prototype.updated_canvas_event = function() {\n",
       "    // Called whenever the canvas gets updated.\n",
       "    this.send_message(\"ack\", {});\n",
       "}\n",
       "\n",
       "// A function to construct a web socket function for onmessage handling.\n",
       "// Called in the figure constructor.\n",
       "mpl.figure.prototype._make_on_message_function = function(fig) {\n",
       "    return function socket_on_message(evt) {\n",
       "        if (evt.data instanceof Blob) {\n",
       "            /* FIXME: We get \"Resource interpreted as Image but\n",
       "             * transferred with MIME type text/plain:\" errors on\n",
       "             * Chrome.  But how to set the MIME type?  It doesn't seem\n",
       "             * to be part of the websocket stream */\n",
       "            evt.data.type = \"image/png\";\n",
       "\n",
       "            /* Free the memory for the previous frames */\n",
       "            if (fig.imageObj.src) {\n",
       "                (window.URL || window.webkitURL).revokeObjectURL(\n",
       "                    fig.imageObj.src);\n",
       "            }\n",
       "\n",
       "            fig.imageObj.src = (window.URL || window.webkitURL).createObjectURL(\n",
       "                evt.data);\n",
       "            fig.updated_canvas_event();\n",
       "            fig.waiting = false;\n",
       "            return;\n",
       "        }\n",
       "        else if (typeof evt.data === 'string' && evt.data.slice(0, 21) == \"data:image/png;base64\") {\n",
       "            fig.imageObj.src = evt.data;\n",
       "            fig.updated_canvas_event();\n",
       "            fig.waiting = false;\n",
       "            return;\n",
       "        }\n",
       "\n",
       "        var msg = JSON.parse(evt.data);\n",
       "        var msg_type = msg['type'];\n",
       "\n",
       "        // Call the  \"handle_{type}\" callback, which takes\n",
       "        // the figure and JSON message as its only arguments.\n",
       "        try {\n",
       "            var callback = fig[\"handle_\" + msg_type];\n",
       "        } catch (e) {\n",
       "            console.log(\"No handler for the '\" + msg_type + \"' message type: \", msg);\n",
       "            return;\n",
       "        }\n",
       "\n",
       "        if (callback) {\n",
       "            try {\n",
       "                // console.log(\"Handling '\" + msg_type + \"' message: \", msg);\n",
       "                callback(fig, msg);\n",
       "            } catch (e) {\n",
       "                console.log(\"Exception inside the 'handler_\" + msg_type + \"' callback:\", e, e.stack, msg);\n",
       "            }\n",
       "        }\n",
       "    };\n",
       "}\n",
       "\n",
       "// from http://stackoverflow.com/questions/1114465/getting-mouse-location-in-canvas\n",
       "mpl.findpos = function(e) {\n",
       "    //this section is from http://www.quirksmode.org/js/events_properties.html\n",
       "    var targ;\n",
       "    if (!e)\n",
       "        e = window.event;\n",
       "    if (e.target)\n",
       "        targ = e.target;\n",
       "    else if (e.srcElement)\n",
       "        targ = e.srcElement;\n",
       "    if (targ.nodeType == 3) // defeat Safari bug\n",
       "        targ = targ.parentNode;\n",
       "\n",
       "    // jQuery normalizes the pageX and pageY\n",
       "    // pageX,Y are the mouse positions relative to the document\n",
       "    // offset() returns the position of the element relative to the document\n",
       "    var x = e.pageX - $(targ).offset().left;\n",
       "    var y = e.pageY - $(targ).offset().top;\n",
       "\n",
       "    return {\"x\": x, \"y\": y};\n",
       "};\n",
       "\n",
       "/*\n",
       " * return a copy of an object with only non-object keys\n",
       " * we need this to avoid circular references\n",
       " * http://stackoverflow.com/a/24161582/3208463\n",
       " */\n",
       "function simpleKeys (original) {\n",
       "  return Object.keys(original).reduce(function (obj, key) {\n",
       "    if (typeof original[key] !== 'object')\n",
       "        obj[key] = original[key]\n",
       "    return obj;\n",
       "  }, {});\n",
       "}\n",
       "\n",
       "mpl.figure.prototype.mouse_event = function(event, name) {\n",
       "    var canvas_pos = mpl.findpos(event)\n",
       "\n",
       "    if (name === 'button_press')\n",
       "    {\n",
       "        this.canvas.focus();\n",
       "        this.canvas_div.focus();\n",
       "    }\n",
       "\n",
       "    var x = canvas_pos.x * mpl.ratio;\n",
       "    var y = canvas_pos.y * mpl.ratio;\n",
       "\n",
       "    this.send_message(name, {x: x, y: y, button: event.button,\n",
       "                             step: event.step,\n",
       "                             guiEvent: simpleKeys(event)});\n",
       "\n",
       "    /* This prevents the web browser from automatically changing to\n",
       "     * the text insertion cursor when the button is pressed.  We want\n",
       "     * to control all of the cursor setting manually through the\n",
       "     * 'cursor' event from matplotlib */\n",
       "    event.preventDefault();\n",
       "    return false;\n",
       "}\n",
       "\n",
       "mpl.figure.prototype._key_event_extra = function(event, name) {\n",
       "    // Handle any extra behaviour associated with a key event\n",
       "}\n",
       "\n",
       "mpl.figure.prototype.key_event = function(event, name) {\n",
       "\n",
       "    // Prevent repeat events\n",
       "    if (name == 'key_press')\n",
       "    {\n",
       "        if (event.which === this._key)\n",
       "            return;\n",
       "        else\n",
       "            this._key = event.which;\n",
       "    }\n",
       "    if (name == 'key_release')\n",
       "        this._key = null;\n",
       "\n",
       "    var value = '';\n",
       "    if (event.ctrlKey && event.which != 17)\n",
       "        value += \"ctrl+\";\n",
       "    if (event.altKey && event.which != 18)\n",
       "        value += \"alt+\";\n",
       "    if (event.shiftKey && event.which != 16)\n",
       "        value += \"shift+\";\n",
       "\n",
       "    value += 'k';\n",
       "    value += event.which.toString();\n",
       "\n",
       "    this._key_event_extra(event, name);\n",
       "\n",
       "    this.send_message(name, {key: value,\n",
       "                             guiEvent: simpleKeys(event)});\n",
       "    return false;\n",
       "}\n",
       "\n",
       "mpl.figure.prototype.toolbar_button_onclick = function(name) {\n",
       "    if (name == 'download') {\n",
       "        this.handle_save(this, null);\n",
       "    } else {\n",
       "        this.send_message(\"toolbar_button\", {name: name});\n",
       "    }\n",
       "};\n",
       "\n",
       "mpl.figure.prototype.toolbar_button_onmouseover = function(tooltip) {\n",
       "    this.message.textContent = tooltip;\n",
       "};\n",
       "mpl.toolbar_items = [[\"Home\", \"Reset original view\", \"fa fa-home icon-home\", \"home\"], [\"Back\", \"Back to previous view\", \"fa fa-arrow-left icon-arrow-left\", \"back\"], [\"Forward\", \"Forward to next view\", \"fa fa-arrow-right icon-arrow-right\", \"forward\"], [\"\", \"\", \"\", \"\"], [\"Pan\", \"Pan axes with left mouse, zoom with right\", \"fa fa-arrows icon-move\", \"pan\"], [\"Zoom\", \"Zoom to rectangle\", \"fa fa-square-o icon-check-empty\", \"zoom\"], [\"\", \"\", \"\", \"\"], [\"Download\", \"Download plot\", \"fa fa-floppy-o icon-save\", \"download\"]];\n",
       "\n",
       "mpl.extensions = [\"eps\", \"jpeg\", \"pdf\", \"png\", \"ps\", \"raw\", \"svg\", \"tif\"];\n",
       "\n",
       "mpl.default_extension = \"png\";var comm_websocket_adapter = function(comm) {\n",
       "    // Create a \"websocket\"-like object which calls the given IPython comm\n",
       "    // object with the appropriate methods. Currently this is a non binary\n",
       "    // socket, so there is still some room for performance tuning.\n",
       "    var ws = {};\n",
       "\n",
       "    ws.close = function() {\n",
       "        comm.close()\n",
       "    };\n",
       "    ws.send = function(m) {\n",
       "        //console.log('sending', m);\n",
       "        comm.send(m);\n",
       "    };\n",
       "    // Register the callback with on_msg.\n",
       "    comm.on_msg(function(msg) {\n",
       "        //console.log('receiving', msg['content']['data'], msg);\n",
       "        // Pass the mpl event to the overridden (by mpl) onmessage function.\n",
       "        ws.onmessage(msg['content']['data'])\n",
       "    });\n",
       "    return ws;\n",
       "}\n",
       "\n",
       "mpl.mpl_figure_comm = function(comm, msg) {\n",
       "    // This is the function which gets called when the mpl process\n",
       "    // starts-up an IPython Comm through the \"matplotlib\" channel.\n",
       "\n",
       "    var id = msg.content.data.id;\n",
       "    // Get hold of the div created by the display call when the Comm\n",
       "    // socket was opened in Python.\n",
       "    var element = $(\"#\" + id);\n",
       "    var ws_proxy = comm_websocket_adapter(comm)\n",
       "\n",
       "    function ondownload(figure, format) {\n",
       "        window.open(figure.imageObj.src);\n",
       "    }\n",
       "\n",
       "    var fig = new mpl.figure(id, ws_proxy,\n",
       "                           ondownload,\n",
       "                           element.get(0));\n",
       "\n",
       "    // Call onopen now - mpl needs it, as it is assuming we've passed it a real\n",
       "    // web socket which is closed, not our websocket->open comm proxy.\n",
       "    ws_proxy.onopen();\n",
       "\n",
       "    fig.parent_element = element.get(0);\n",
       "    fig.cell_info = mpl.find_output_cell(\"<div id='\" + id + \"'></div>\");\n",
       "    if (!fig.cell_info) {\n",
       "        console.error(\"Failed to find cell for figure\", id, fig);\n",
       "        return;\n",
       "    }\n",
       "\n",
       "    var output_index = fig.cell_info[2]\n",
       "    var cell = fig.cell_info[0];\n",
       "\n",
       "};\n",
       "\n",
       "mpl.figure.prototype.handle_close = function(fig, msg) {\n",
       "    var width = fig.canvas.width/mpl.ratio\n",
       "    fig.root.unbind('remove')\n",
       "\n",
       "    // Update the output cell to use the data from the current canvas.\n",
       "    fig.push_to_output();\n",
       "    var dataURL = fig.canvas.toDataURL();\n",
       "    // Re-enable the keyboard manager in IPython - without this line, in FF,\n",
       "    // the notebook keyboard shortcuts fail.\n",
       "    IPython.keyboard_manager.enable()\n",
       "    $(fig.parent_element).html('<img src=\"' + dataURL + '\" width=\"' + width + '\">');\n",
       "    fig.close_ws(fig, msg);\n",
       "}\n",
       "\n",
       "mpl.figure.prototype.close_ws = function(fig, msg){\n",
       "    fig.send_message('closing', msg);\n",
       "    // fig.ws.close()\n",
       "}\n",
       "\n",
       "mpl.figure.prototype.push_to_output = function(remove_interactive) {\n",
       "    // Turn the data on the canvas into data in the output cell.\n",
       "    var width = this.canvas.width/mpl.ratio\n",
       "    var dataURL = this.canvas.toDataURL();\n",
       "    this.cell_info[1]['text/html'] = '<img src=\"' + dataURL + '\" width=\"' + width + '\">';\n",
       "}\n",
       "\n",
       "mpl.figure.prototype.updated_canvas_event = function() {\n",
       "    // Tell IPython that the notebook contents must change.\n",
       "    IPython.notebook.set_dirty(true);\n",
       "    this.send_message(\"ack\", {});\n",
       "    var fig = this;\n",
       "    // Wait a second, then push the new image to the DOM so\n",
       "    // that it is saved nicely (might be nice to debounce this).\n",
       "    setTimeout(function () { fig.push_to_output() }, 1000);\n",
       "}\n",
       "\n",
       "mpl.figure.prototype._init_toolbar = function() {\n",
       "    var fig = this;\n",
       "\n",
       "    var nav_element = $('<div/>');\n",
       "    nav_element.attr('style', 'width: 100%');\n",
       "    this.root.append(nav_element);\n",
       "\n",
       "    // Define a callback function for later on.\n",
       "    function toolbar_event(event) {\n",
       "        return fig.toolbar_button_onclick(event['data']);\n",
       "    }\n",
       "    function toolbar_mouse_event(event) {\n",
       "        return fig.toolbar_button_onmouseover(event['data']);\n",
       "    }\n",
       "\n",
       "    for(var toolbar_ind in mpl.toolbar_items){\n",
       "        var name = mpl.toolbar_items[toolbar_ind][0];\n",
       "        var tooltip = mpl.toolbar_items[toolbar_ind][1];\n",
       "        var image = mpl.toolbar_items[toolbar_ind][2];\n",
       "        var method_name = mpl.toolbar_items[toolbar_ind][3];\n",
       "\n",
       "        if (!name) { continue; };\n",
       "\n",
       "        var button = $('<button class=\"btn btn-default\" href=\"#\" title=\"' + name + '\"><i class=\"fa ' + image + ' fa-lg\"></i></button>');\n",
       "        button.click(method_name, toolbar_event);\n",
       "        button.mouseover(tooltip, toolbar_mouse_event);\n",
       "        nav_element.append(button);\n",
       "    }\n",
       "\n",
       "    // Add the status bar.\n",
       "    var status_bar = $('<span class=\"mpl-message\" style=\"text-align:right; float: right;\"/>');\n",
       "    nav_element.append(status_bar);\n",
       "    this.message = status_bar[0];\n",
       "\n",
       "    // Add the close button to the window.\n",
       "    var buttongrp = $('<div class=\"btn-group inline pull-right\"></div>');\n",
       "    var button = $('<button class=\"btn btn-mini btn-primary\" href=\"#\" title=\"Stop Interaction\"><i class=\"fa fa-power-off icon-remove icon-large\"></i></button>');\n",
       "    button.click(function (evt) { fig.handle_close(fig, {}); } );\n",
       "    button.mouseover('Stop Interaction', toolbar_mouse_event);\n",
       "    buttongrp.append(button);\n",
       "    var titlebar = this.root.find($('.ui-dialog-titlebar'));\n",
       "    titlebar.prepend(buttongrp);\n",
       "}\n",
       "\n",
       "mpl.figure.prototype._root_extra_style = function(el){\n",
       "    var fig = this\n",
       "    el.on(\"remove\", function(){\n",
       "\tfig.close_ws(fig, {});\n",
       "    });\n",
       "}\n",
       "\n",
       "mpl.figure.prototype._canvas_extra_style = function(el){\n",
       "    // this is important to make the div 'focusable\n",
       "    el.attr('tabindex', 0)\n",
       "    // reach out to IPython and tell the keyboard manager to turn it's self\n",
       "    // off when our div gets focus\n",
       "\n",
       "    // location in version 3\n",
       "    if (IPython.notebook.keyboard_manager) {\n",
       "        IPython.notebook.keyboard_manager.register_events(el);\n",
       "    }\n",
       "    else {\n",
       "        // location in version 2\n",
       "        IPython.keyboard_manager.register_events(el);\n",
       "    }\n",
       "\n",
       "}\n",
       "\n",
       "mpl.figure.prototype._key_event_extra = function(event, name) {\n",
       "    var manager = IPython.notebook.keyboard_manager;\n",
       "    if (!manager)\n",
       "        manager = IPython.keyboard_manager;\n",
       "\n",
       "    // Check for shift+enter\n",
       "    if (event.shiftKey && event.which == 13) {\n",
       "        this.canvas_div.blur();\n",
       "        event.shiftKey = false;\n",
       "        // Send a \"J\" for go to next cell\n",
       "        event.which = 74;\n",
       "        event.keyCode = 74;\n",
       "        manager.command_mode();\n",
       "        manager.handle_keydown(event);\n",
       "    }\n",
       "}\n",
       "\n",
       "mpl.figure.prototype.handle_save = function(fig, msg) {\n",
       "    fig.ondownload(fig, null);\n",
       "}\n",
       "\n",
       "\n",
       "mpl.find_output_cell = function(html_output) {\n",
       "    // Return the cell and output element which can be found *uniquely* in the notebook.\n",
       "    // Note - this is a bit hacky, but it is done because the \"notebook_saving.Notebook\"\n",
       "    // IPython event is triggered only after the cells have been serialised, which for\n",
       "    // our purposes (turning an active figure into a static one), is too late.\n",
       "    var cells = IPython.notebook.get_cells();\n",
       "    var ncells = cells.length;\n",
       "    for (var i=0; i<ncells; i++) {\n",
       "        var cell = cells[i];\n",
       "        if (cell.cell_type === 'code'){\n",
       "            for (var j=0; j<cell.output_area.outputs.length; j++) {\n",
       "                var data = cell.output_area.outputs[j];\n",
       "                if (data.data) {\n",
       "                    // IPython >= 3 moved mimebundle to data attribute of output\n",
       "                    data = data.data;\n",
       "                }\n",
       "                if (data['text/html'] == html_output) {\n",
       "                    return [cell, data, j];\n",
       "                }\n",
       "            }\n",
       "        }\n",
       "    }\n",
       "}\n",
       "\n",
       "// Register the function which deals with the matplotlib target/channel.\n",
       "// The kernel may be null if the page has been refreshed.\n",
       "if (IPython.notebook.kernel != null) {\n",
       "    IPython.notebook.kernel.comm_manager.register_target('matplotlib', mpl.mpl_figure_comm);\n",
       "}\n"
      ],
      "text/plain": [
       "<IPython.core.display.Javascript object>"
      ]
     },
     "metadata": {},
     "output_type": "display_data"
    },
    {
     "data": {
      "text/html": [
       "<img src=\"data:image/png;base64,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\" width=\"640\">"
      ],
      "text/plain": [
       "<IPython.core.display.HTML object>"
      ]
     },
     "metadata": {},
     "output_type": "display_data"
    },
    {
     "data": {
      "text/plain": [
       "<mpl_toolkits.mplot3d.art3d.Path3DCollection at 0x7f0d96b5ff90>"
      ]
     },
     "execution_count": 16,
     "metadata": {},
     "output_type": "execute_result"
    }
   ],
   "source": [
    "from mpl_toolkits.mplot3d import Axes3D \n",
    "import matplotlib.pyplot as plt\n",
    "%matplotlib notebook\n",
    "%matplotlib notebook\n",
    "\n",
    "fig = plt.figure()\n",
    "ax = plt.axes(projection='3d')\n",
    "ax.scatter3D(X[:,0],X[:,1],X[:,2], 'gray')"
   ]
  },
  {
   "cell_type": "markdown",
   "metadata": {
    "slideshow": {
     "slide_type": "slide"
    }
   },
   "source": [
    "## Limpiando el error numérico\n",
    "Si analizamos los datos en muchos casos encontramos valores que en lugar de ser exactos tienen un error muy pequeño producido por la precisión de máquina.\n",
    "\n",
    "Por ejemplo veamos aquellos valores en $x$ que tienen un valor muy cercano a $0$, en este caso seleccionaré los que son menores a $1\\times 10^{-6}$"
   ]
  },
  {
   "cell_type": "code",
   "execution_count": 6,
   "metadata": {
    "slideshow": {
     "slide_type": "fragment"
    }
   },
   "outputs": [
    {
     "data": {
      "text/plain": [
       "array([ 2.44929360e-16, -7.34788079e-16,  2.44929360e-16, -7.34788079e-16,\n",
       "        2.44929360e-16, -7.34788079e-16,  2.44929360e-16, -7.34788079e-16,\n",
       "        2.44929360e-16, -7.34788079e-16,  2.44929360e-16, -7.34788079e-16,\n",
       "        2.44929360e-16, -7.34788079e-16,  2.44929360e-16, -7.34788079e-16])"
      ]
     },
     "execution_count": 6,
     "metadata": {},
     "output_type": "execute_result"
    }
   ],
   "source": [
    "X[abs(X[:,0])<1e-6,0]"
   ]
  },
  {
   "cell_type": "markdown",
   "metadata": {
    "slideshow": {
     "slide_type": "fragment"
    }
   },
   "source": [
    "Es conveniente que estos valores sean exactamente igual a 0 para futuras operaciones, por lo que podemos convertirlos de esta manera"
   ]
  },
  {
   "cell_type": "code",
   "execution_count": 7,
   "metadata": {
    "slideshow": {
     "slide_type": "fragment"
    }
   },
   "outputs": [],
   "source": [
    "X[abs(X[:,0])<1e-6,0]=0"
   ]
  },
  {
   "cell_type": "markdown",
   "metadata": {
    "slideshow": {
     "slide_type": "fragment"
    }
   },
   "source": [
    "Si volvemos a consultar los valores de $x$ menores a $1\\times 10 ^{-6}$, veremos que ahora todos son igual a $0$:"
   ]
  },
  {
   "cell_type": "code",
   "execution_count": 8,
   "metadata": {
    "slideshow": {
     "slide_type": "fragment"
    }
   },
   "outputs": [
    {
     "data": {
      "text/plain": [
       "array([0., 0., 0., 0., 0., 0., 0., 0., 0., 0., 0., 0., 0., 0., 0., 0.])"
      ]
     },
     "execution_count": 8,
     "metadata": {},
     "output_type": "execute_result"
    }
   ],
   "source": [
    "X[abs(X[:,0])<1e-6,0]"
   ]
  },
  {
   "cell_type": "markdown",
   "metadata": {
    "slideshow": {
     "slide_type": "slide"
    }
   },
   "source": [
    "Este principio lo aplicaremos para todos los valoers de $x,y,z$ cercanos a $0,R, h$"
   ]
  },
  {
   "cell_type": "code",
   "execution_count": 9,
   "metadata": {
    "slideshow": {
     "slide_type": "fragment"
    }
   },
   "outputs": [],
   "source": [
    "X[abs(X[:,0])<1e-6,0]=0            # valores de x cercanos a 0\n",
    "X[abs(X[:,1])<1e-6,1]=0            # valores de y cercanos a 0 \n",
    "X[abs(X[:,2])<1e-6,2]=0            # valores de z cercanos a 0\n",
    "\n",
    "X[abs(X[:,0]-R) <1e-6,0]=R         # valores de x cercanos a R\n",
    "X[abs(X[:,0]+R) <1e-6,0]=-R        # valores de x cercanos a -R\n",
    "\n",
    "X[abs(X[:,1]-R) <1e-6,1]=R         # valores de y cercanos a R\n",
    "X[abs(X[:,1]+R) <1e-6,1]=-R        # valores de y cercanos a -R\n",
    "\n",
    "X[abs(X[:,2]-h*0.5)<1e-6,2]=h/2    # valores de z cercanos a h/2\n",
    "X[abs(X[:,2]+h*0.5)<1e-6,2]=-h/2   # valores de z cercanos a -h/2"
   ]
  },
  {
   "cell_type": "markdown",
   "metadata": {
    "slideshow": {
     "slide_type": "slide"
    }
   },
   "source": [
    "## Creando elementos\n",
    "Los siguiente es crear la conectividad que define cada polígono, en este caso son todos triángulos. Estos los llamaremos elementos que es la forma típica de nombrarlos en elementos finitos\n",
    "\n",
    "El número total de elementos, en este caso está dado por:\n",
    "\n",
    "$$N_{el}=2. N_t.(N_z -1)$$\n",
    "\n",
    "Consideremos un primer anillo, donde por cada nodo tenemos dos triángulos $(2 N_t)$. Esto se repite por cada anillo menos en el último q puede considerarse como una \"tapa\" por eso se multiplica por $(N_z-1)$\n",
    "\n",
    "Cada elemento se define por los nodos que lo conforman. En este caso por ser una malla compuesta solo por triángulos, cada elemento está definido por tres nodos.\n",
    "\n"
   ]
  },
  {
   "cell_type": "code",
   "execution_count": 10,
   "metadata": {
    "slideshow": {
     "slide_type": "fragment"
    }
   },
   "outputs": [
    {
     "data": {
      "text/plain": [
       "960"
      ]
     },
     "execution_count": 10,
     "metadata": {},
     "output_type": "execute_result"
    }
   ],
   "source": [
    "nElem = 2*(Nz-1)*Nt;\n",
    "T= zeros([nElem,3])                          # matriz para de conectividad cada fila tiene los tres nodos de un elemento\n",
    "nElem"
   ]
  },
  {
   "cell_type": "markdown",
   "metadata": {
    "slideshow": {
     "slide_type": "slide"
    }
   },
   "source": [
    "  [gráfico con índices de nodos para filas pares e impares]"
   ]
  },
  {
   "cell_type": "code",
   "execution_count": 11,
   "metadata": {
    "slideshow": {
     "slide_type": "fragment"
    }
   },
   "outputs": [],
   "source": [
    "e=0;                                         # índice del elemento\n",
    "for k in range(0, (Nz-1)):                   # para cada anillo excepto el último\n",
    "    if (mod(k,2)!=0):                        # para los k que son impares   es decir, número de anillo impar\n",
    "        for i in range(0,Nt-1):                # para cada nodo del anillo\n",
    "            ii= (k)*Nt+i                     # el índice del nodo en la lista global de nodos\n",
    "            T[e,:]=[ii, ii+1, Nt+ii+1]       # construye el elemento\n",
    "            e+=1                             # paso al siguiente elemento\n",
    "            \n",
    "            T[e,:] = [ii, Nt+ii+1, Nt+ii]\n",
    "            e = e+1\n",
    "            \n",
    "        T[e,:]= [(k+1)*Nt-1, k*Nt, (k+1)*Nt]\n",
    "        e+=1                                 # paso al siguinte elemento\n",
    "        \n",
    "        T[e,:]=[(k+1)*Nt-1,  (k+1)*Nt,  (k+2)*Nt-1]\n",
    "        e+=1\n",
    "        \n",
    "    else:                                    # para los anillos de índice par\n",
    "        for i in range(0, Nt-1):             # para cada nodo del anillo\n",
    "            ii = (k)*Nt + i                \n",
    "            T[e,:]=[ii,ii+1, Nt+ii]          \n",
    "            e+=1                             \n",
    "                                             \n",
    "            T[e,:]=[ii+1, Nt+ii+1, Nt+ii]    \n",
    "            e+=1               \n",
    "            \n",
    "        T[e,:]=[(k+1)*Nt-1, (k)*Nt, (k+2)*Nt-1]\n",
    "        e+=1                                 \n",
    "        \n",
    "        T[e,:] =[k*Nt,(k+2)*Nt-1, (k+1)*Nt]\n",
    "        e = e+1"
   ]
  },
  {
   "cell_type": "code",
   "execution_count": 636,
   "metadata": {
    "slideshow": {
     "slide_type": "skip"
    }
   },
   "outputs": [
    {
     "data": {
      "text/plain": [
       "(array([ 4.,  0., -5.]),\n",
       " array([ 3.92314112,  0.78036129, -5.        ]),\n",
       " array([ 3.98073891,  0.39206856, -4.33333333]))"
      ]
     },
     "execution_count": 636,
     "metadata": {},
     "output_type": "execute_result"
    }
   ],
   "source": [
    "X[0],X[1],X[Nt],"
   ]
  },
  {
   "cell_type": "code",
   "execution_count": 13,
   "metadata": {
    "slideshow": {
     "slide_type": "slide"
    }
   },
   "outputs": [],
   "source": [
    "b = zeros((960,4))\n",
    "b[:,1:4]=T\n",
    "b[:,0]=3*ones([960], dtype=int)\n",
    "faces=hstack(b)\n"
   ]
  },
  {
   "cell_type": "code",
   "execution_count": 14,
   "metadata": {
    "slideshow": {
     "slide_type": "fragment"
    }
   },
   "outputs": [
    {
     "data": {
      "image/png": "[encoded data removed]",
      "text/plain": [
       "<PIL.Image.Image image mode=RGB size=1024x768 at 0x7F0D9898C790>"
      ]
     },
     "metadata": {},
     "output_type": "display_data"
    }
   ],
   "source": [
    "import pyvista as pv\n",
    "from itkwidgets import view\n",
    "\n",
    "surf = pv.PolyData(X,faces)\n",
    "surf.plot(show_edges=True)\n",
    "\n",
    "surf.save(\"cilindro.vtk\")"
   ]
  },
  {
   "cell_type": "markdown",
   "metadata": {},
   "source": [
    "***"
   ]
  },
  {
   "cell_type": "code",
   "execution_count": 15,
   "metadata": {
    "slideshow": {
     "slide_type": "skip"
    }
   },
   "outputs": [
    {
     "data": {
      "image/png": "[encoded data removed]",
      "text/plain": [
       "<PIL.Image.Image image mode=RGB size=1024x768 at 0x7F0D95DACD50>"
      ]
     },
     "metadata": {},
     "output_type": "display_data"
    }
   ],
   "source": [
    "e=0;                                           # índice del elemento\n",
    "for k in range(0, (Nz-1)):                     # para cada anillo excepto el último\n",
    "    if (mod(k,2)==0):                          # para los k que son pares   es decir, número de anillo impar\n",
    "        for i in range(0,Nt-1):                # para cada nodo del anillo\n",
    "            ii= (k)*Nt+i\n",
    "            T[e,:] = [ii , ii+Nt , ii+2*Nt-1]\n",
    "            e+=1                             \n",
    "            T[e,:] = [ii , ii+1 , ii+Nt]       # construye el elemento\n",
    "            e = e+1\n",
    "            \n",
    "        T[e,:]= [(k+1)*Nt-1, k*Nt, (k+2)*Nt-1]\n",
    "        e+=1                                 \n",
    "        \n",
    "        T[e,:]= [(k+1)*Nt-1, (k+2)*Nt-1, (k+2)*Nt-2]\n",
    "        e+=1\n",
    "        \n",
    "    else:                                      # para los anillos de índice impar\n",
    "        for i in range(0, Nt-1):               # para cada nodo del anillo    \n",
    "            ii= (k)*Nt+i                                \n",
    "            T[e,:]=[ii, ii+Nt+1,ii+Nt]    \n",
    "            e+=1                 \n",
    "            \n",
    "            T[e,:]=[ii , ii+1 , ii+Nt+1]          \n",
    "            e+=1                             \n",
    "          \n",
    "            \n",
    "        T[e,:]=[(k+1)*Nt-1, (k+1)*Nt, (k+2)*Nt]\n",
    "        e+=1                                 \n",
    "        \n",
    "        T[e,:] =[(k+1)*Nt-1, k*Nt, (k+1)*Nt]\n",
    "        e = e+1\n",
    "        \n",
    "\n",
    "b = zeros((960,4))\n",
    "b[:,1:4]=T\n",
    "b[:,0]=3*ones([960], dtype=int)\n",
    "faces=hstack(b)\n",
    "\n",
    "\n",
    "import pyvista as pv\n",
    "from itkwidgets import view\n",
    "\n",
    "surf = pv.PolyData(X,faces)\n",
    "surf.plot(show_edges=True)\n"
   ]
  },
  {
   "cell_type": "code",
   "execution_count": null,
   "metadata": {},
   "outputs": [],
   "source": [
    "\n"
   ]
  }
 ],
 "metadata": {
  "celltoolbar": "Slideshow",
  "kernelspec": {
   "display_name": "Python 3",
   "language": "python",
   "name": "python3"
  },
  "language_info": {
   "codemirror_mode": {
    "name": "ipython",
    "version": 3
   },
   "file_extension": ".py",
   "mimetype": "text/x-python",
   "name": "python",
   "nbconvert_exporter": "python",
   "pygments_lexer": "ipython3",
   "version": "3.7.9"
  },
  "varInspector": {
   "cols": {
    "lenName": 16,
    "lenType": 16,
    "lenVar": 40
   },
   "kernels_config": {
    "python": {
     "delete_cmd_postfix": "",
     "delete_cmd_prefix": "del ",
     "library": "var_list.py",
     "varRefreshCmd": "print(var_dic_list())"
    },
    "r": {
     "delete_cmd_postfix": ") ",
     "delete_cmd_prefix": "rm(",
     "library": "var_list.r",
     "varRefreshCmd": "cat(var_dic_list()) "
    }
   },
   "types_to_exclude": [
    "module",
    "function",
    "builtin_function_or_method",
    "instance",
    "_Feature"
   ],
   "window_display": true
  }
 },
 "nbformat": 4,
 "nbformat_minor": 2
}
