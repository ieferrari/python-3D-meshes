{
 "cells": [
  {
   "cell_type": "markdown",
   "metadata": {
    "slideshow": {
     "slide_type": "slide"
    }
   },
   "source": [
    "# Procesando archivos VTK desde Python"
   ]
  },
  {
   "cell_type": "markdown",
   "metadata": {
    "slideshow": {
     "slide_type": "slide"
    }
   },
   "source": [
    " Ejemplo para leer un archivo, aplicar filtros y guardar"
   ]
  },
  {
   "cell_type": "code",
   "execution_count": 1,
   "metadata": {
    "slideshow": {
     "slide_type": "fragment"
    }
   },
   "outputs": [],
   "source": [
    "# GUARDAR ARCHIVO en formato vtkPolydata DESPUÉS DE APLICAR FILTROS\n",
    "import vtk\n",
    "def leerArchivo(nombre_archivo):  \n",
    "    reader = vtk.vtkPolyDataReader()             # SOURCE/READER                  \n",
    "    reader.SetFileName(nombre_archivo)              \n",
    "    reader.Update()                          \n",
    "    data = reader.GetOutput()\n",
    "    #FILTER\n",
    "    bordes = vtk.vtkFeatureEdges()                     \n",
    "    bordes.SetInputData(data)                    \n",
    "    bordes.BoundaryEdgesOn()                           \n",
    "    bordes.FeatureEdgesOn()\n",
    "    bordes.ManifoldEdgesOn()\n",
    "    bordes.NonManifoldEdgesOff()\n",
    "    bordes.Update()           \n",
    "    cc_filter = vtk.vtkPolyDataConnectivityFilter()    # creo un segundo fitro: connectivity\n",
    "    cc_filter.SetInputData(bordes.GetOutput())\n",
    "    cc_filter.ColorRegionsOn()\n",
    "    cc_filter.SetExtractionModeToSpecifiedRegions()\n",
    "    components = list()\n",
    "    idx = 0\n",
    "    while True:   #https://public.kitware.com/pipermail/vtkusers/2017-March/098063.html\n",
    "        cc_filter.AddSpecifiedRegion(idx)\n",
    "        cc_filter.Update()\n",
    "        component = vtk.vtkPolyData()\n",
    "        component.DeepCopy(cc_filter.GetOutput())  \n",
    "        if component.GetNumberOfCells() <= 0:\n",
    "            break     # corta cuando ya no hay celdas para comparar\n",
    "        components.append(component)  #puedo usar 'return components' al final de la función\n",
    "        cc_filter.DeleteSpecifiedRegion(idx)\n",
    "        idx += 1 \n",
    "    # write to file\n",
    "    writer = vtk.vtkPolyDataWriter()\n",
    "    writer.SetFileName('ejemplo.vtk')\n",
    "    writer.SetInputData(cc_filter.GetOutput())\n",
    "    writer.SetFileTypeToASCII()\n",
    "    writer.Write()\n",
    "comp=leerArchivo('tubes_n1_raw.vtk')"
   ]
  },
  {
   "cell_type": "markdown",
   "metadata": {
    "slideshow": {
     "slide_type": "slide"
    }
   },
   "source": [
    "Acciones pendientes de resolver desde la librería:\n",
    "* controlar la versión de salida del archivo escrito, por defecto **vtk DataFile Version 4.2**\n",
    "* combinar la escritura con otro archivo anterior\n",
    "*  asignar global_ids\n",
    "\n",
    "Aparentemente, aunque la librería de VTK tiene funciones muy variadas, no es posible realizar todas las transformaciones deseadas desde ahí. Eso explicaría entre otras cosas la existencia de librerías separadas en Paraview e ITK, que se relacionan con VTK pero tienen implementacioens independientes\n",
    "\n",
    "(Sigue pendiente explorar las funciones de filtros de Paraview desde python)\n",
    "***"
   ]
  },
  {
   "cell_type": "markdown",
   "metadata": {
    "slideshow": {
     "slide_type": "slide"
    }
   },
   "source": [
    "## Alternativas mixtas para procesar archivos vtk\n",
    "A continucación alternativas que, si bien tratan de maximizar el uso de vtk, combinan con librerías exteriores.\n",
    "\n",
    "Para esto veremos distintas funcions para interactuar con los formatos de datos de vtk"
   ]
  },
  {
   "cell_type": "markdown",
   "metadata": {
    "slideshow": {
     "slide_type": "fragment"
    }
   },
   "source": [
    "Primero lee el archivo, obtiene su salida, y se sacan algunos parámetros como la cantidad de nodos y elementos"
   ]
  },
  {
   "cell_type": "code",
   "execution_count": 2,
   "metadata": {
    "slideshow": {
     "slide_type": "fragment"
    }
   },
   "outputs": [
    {
     "data": {
      "text/plain": [
       "(26436, 52112)"
      ]
     },
     "execution_count": 2,
     "metadata": {},
     "output_type": "execute_result"
    }
   ],
   "source": [
    "import vtk\n",
    "# SOURCE/READER \n",
    "reader = vtk.vtkPolyDataReader()                \n",
    "reader.SetFileName('tubes_n1_raw.vtk')              \n",
    "reader.Update()                          \n",
    "data = reader.GetOutput()\n",
    "\n",
    "N_points=data.GetNumberOfPoints()\n",
    "N_cells=data.GetNumberOfCells()\n",
    "N_points, N_cells"
   ]
  },
  {
   "cell_type": "markdown",
   "metadata": {
    "slideshow": {
     "slide_type": "slide"
    }
   },
   "source": [
    "La función GetPoint(int) toma el id de un nodo y devuelve su posición en [x,y,z]"
   ]
  },
  {
   "cell_type": "code",
   "execution_count": 3,
   "metadata": {
    "slideshow": {
     "slide_type": "fragment"
    }
   },
   "outputs": [
    {
     "data": {
      "text/plain": [
       "(-0.468221700423354, -0.147699486438929, -0.0301054537553065)"
      ]
     },
     "execution_count": 3,
     "metadata": {},
     "output_type": "execute_result"
    }
   ],
   "source": [
    "#get point (x,y,z) by its id\n",
    "data.GetPoint(3)"
   ]
  },
  {
   "cell_type": "markdown",
   "metadata": {
    "slideshow": {
     "slide_type": "fragment"
    }
   },
   "source": [
    "La función FindPoint(float, float, float)  toma una posición [x,y,z] y devuelve el id del nodo más cercano"
   ]
  },
  {
   "cell_type": "code",
   "execution_count": 4,
   "metadata": {
    "slideshow": {
     "slide_type": "fragment"
    }
   },
   "outputs": [
    {
     "data": {
      "text/plain": [
       "25879"
      ]
     },
     "execution_count": 4,
     "metadata": {},
     "output_type": "execute_result"
    }
   ],
   "source": [
    "#Find id of nearest point to a (x,y,z) point\n",
    "data.FindPoint(3,3,2)"
   ]
  },
  {
   "cell_type": "markdown",
   "metadata": {
    "slideshow": {
     "slide_type": "slide"
    }
   },
   "source": [
    "Para saber si una posición en [x,y,z] es parte de los nodos de la malla: primero enncontramos el nodo más cercano y comparamos si es igual a la posición dada"
   ]
  },
  {
   "cell_type": "code",
   "execution_count": 5,
   "metadata": {
    "slideshow": {
     "slide_type": "fragment"
    }
   },
   "outputs": [
    {
     "data": {
      "text/plain": [
       "False"
      ]
     },
     "execution_count": 5,
     "metadata": {},
     "output_type": "execute_result"
    }
   ],
   "source": [
    "P=(3,3,2)\n",
    "data.GetPoint(data.FindPoint(P))==P"
   ]
  },
  {
   "cell_type": "code",
   "execution_count": 6,
   "metadata": {
    "slideshow": {
     "slide_type": "fragment"
    }
   },
   "outputs": [
    {
     "data": {
      "text/plain": [
       "True"
      ]
     },
     "execution_count": 6,
     "metadata": {},
     "output_type": "execute_result"
    }
   ],
   "source": [
    "P=(-0.468221700423354, -0.147699486438929, -0.0301054537553065)\n",
    "data.GetPoint(data.FindPoint(P))==P"
   ]
  },
  {
   "cell_type": "markdown",
   "metadata": {
    "slideshow": {
     "slide_type": "slide"
    }
   },
   "source": [
    "Creando otro filtro para obtener los nodos de los bordes:"
   ]
  },
  {
   "cell_type": "code",
   "execution_count": 7,
   "metadata": {
    "slideshow": {
     "slide_type": "fragment"
    }
   },
   "outputs": [
    {
     "data": {
      "text/plain": [
       "(768, 656, (0.106711137867821, 0.106711137867821, 0.5))"
      ]
     },
     "execution_count": 7,
     "metadata": {},
     "output_type": "execute_result"
    }
   ],
   "source": [
    "#FILTER\n",
    "bordes = vtk.vtkFeatureEdges()                     \n",
    "bordes.SetInputData(data)                    \n",
    "bordes.BoundaryEdgesOn()                           \n",
    "bordes.FeatureEdgesOn()\n",
    "bordes.ManifoldEdgesOn()\n",
    "bordes.NonManifoldEdgesOff()\n",
    "bordes.Update()           \n",
    "b=bordes.GetOutput()\n",
    "N=b.GetNumberOfPoints()\n",
    "N, b.FindPoint(0.5,0.5,0.5), b.GetPoint(656)"
   ]
  },
  {
   "cell_type": "markdown",
   "metadata": {
    "slideshow": {
     "slide_type": "slide"
    }
   },
   "source": [
    "Ejemplo para obtener los ids globales de los nodos filtrados:"
   ]
  },
  {
   "cell_type": "code",
   "execution_count": 8,
   "metadata": {
    "slideshow": {
     "slide_type": "fragment"
    }
   },
   "outputs": [],
   "source": [
    "puntos_borde=bordes.GetOutput().GetPoints()\n",
    "N=puntos_borde.GetNumberOfPoints()\n",
    "\n",
    "import numpy as np\n",
    "creases=np.zeros(N) #array with global ids of edges\n",
    "\n",
    "for i in range (0,N):\n",
    "    creases[i]=data.FindPoint(puntos_borde.GetPoint(i))\n",
    "creases=np.sort(creases)  #ordeno los puntos"
   ]
  },
  {
   "cell_type": "markdown",
   "metadata": {
    "slideshow": {
     "slide_type": "fragment"
    }
   },
   "source": [
    "Esta implementación es muy rápida, ya que usa un solo loop en lenguaje de scripting y aprovecha las funciones GetPoint y FindPoint que son muy veloces\n",
    "***"
   ]
  },
  {
   "cell_type": "markdown",
   "metadata": {
    "slideshow": {
     "slide_type": "slide"
    }
   },
   "source": [
    "Creando Point Data:  **Creases ID**, **Constraint Tags** , **boundaries points**, **boundaries global ids**, **BDispl ids**\n"
   ]
  },
  {
   "cell_type": "code",
   "execution_count": 14,
   "metadata": {
    "slideshow": {
     "slide_type": "fragment"
    }
   },
   "outputs": [
    {
     "data": {
      "text/plain": [
       "26436"
      ]
     },
     "execution_count": 14,
     "metadata": {},
     "output_type": "execute_result"
    }
   ],
   "source": [
    "#creo todos los array del tamaño máximo N_points\n",
    "creases_id=np.zeros(N_points, dtype=np.int)  #boolean array for each global node, 1=edge, 0!=edge\n",
    "constraint_tags=np.zeros((N_points,3),dtype=np.int)  \n",
    "boundaries_points=np.zeros((N_points,3))     #lista de puntos de los boundaries\n",
    "boundaries_global_ids=np.zeros(N_points)\n",
    "bDispl_ids=np.zeros(N_points)\n",
    "\n",
    "bord=bordes.GetOutput()\n",
    "b_counter=0\n",
    "bDispl_counter=0\n",
    "\n",
    "for i in range(0,N_points):                   # Para cada nodo de la malla\n",
    "    p=data.GetPoint(i)                        # obtengo  su posición [x,y,z]\n",
    "    val=bord.GetPoint(bord.FindPoint(p))==p   # verifico si ese nodo es del borde\n",
    "    creases_id[i]= val                        # creases_id   =1 s está en el borde  =0 si no es borde\n",
    "    top  =  p[2]==0.5                         # igual a 1  para el anillo del techo con z = 0.5 \n",
    "    ceil =  p[2]==-0.5                        # igual a 1  para el anillo de la base con z = -0.5   \n",
    "    if ceil:\n",
    "        constraint_tags[i][:]=1,1,1           # se fijan constraint tags\n",
    "        boundaries_points[b_counter]=p        # se agrega a boundaries_points\n",
    "        boundaries_global_ids[b_counter]=i    # se guarda su id global\n",
    "        b_counter+=1\n",
    "    if top :\n",
    "        constraint_tags[i][:]=1,1,1           # se fijan constraint tags\n",
    "        boundaries_points[b_counter]=p        # se agrega a boundaries_points\n",
    "        boundaries_global_ids[b_counter]=i    # se guarda su id global\n",
    "        b_counter+=1\n",
    "        bDispl_ids[bDispl_counter]=i          #los id de los boundaries top se agregan a bDispl_ids\n",
    "        bDispl_counter+=1\n",
    "        \n",
    "#borro los elementos no usados de los array que fueron creados más grandes\n",
    "boundaries_points=np.split(boundaries_points,[b_counter,N_points])[0]    \n",
    "boudaries_global_ids=np.split(boundaries_global_ids,[b_counter,N_points])[0]\n",
    "bDispl_ids=np.split(bDispl_ids,[bDispl_counter,N_points])[0]\n",
    "len(creases_id)"
   ]
  },
  {
   "cell_type": "markdown",
   "metadata": {
    "slideshow": {
     "slide_type": "fragment"
    }
   },
   "source": [
    "La implementación es eficaz, usa un solo loop en scripting, y crea todas las listas necesarias.\n",
    "***"
   ]
  },
  {
   "cell_type": "code",
   "execution_count": 18,
   "metadata": {},
   "outputs": [],
   "source": [
    "dataImporter = vtk.vtkImageImport()\n",
    "data_string = creases_id.tostring()\n",
    "dataImporter.CopyImportVoidPointer(data_string, len(data_string))\n",
    "dataImporter.SetDataScalarTypeToUnsignedChar()\n",
    "dataImporter.SetNumberOfScalarComponents(1)\n",
    "dataImporter.SetDataExtent(0, 26436, 0,0,0,0)\n",
    "dataImporter.SetWholeExtent(0, 26436,0,0,0,0)\n",
    "\n",
    "arr=vtk.vtkDoubleArray()\n",
    "arr.CopyImportVoidPointer(data_string, len(data_string))\n",
    "arr.SetDataScalarTypeToUnsignedChar()\n",
    "arr.SetNumberOfScalarComponents(1)\n",
    "arr.SetNumberOfTuples(len(data_string))\n",
    "arr.SetName(\"creases_ids\")\n",
    "\n",
    "\n",
    "defField->SetNumberOfTuples(nPts);\n",
    "                defField->SetNumberOfComponents(DOF);\n",
    "                defField->SetName(\"DisplacementField\");\n",
    "                defField->SetArray(u_nodes, nPts, DOF);"
   ]
  },
  {
   "cell_type": "code",
   "execution_count": 25,
   "metadata": {},
   "outputs": [
    {
     "data": {
      "text/plain": [
       "[array([ 1.00000000e+00,  5.51778251e-01, -3.91081523e-01, -9.83358809e-01,\n",
       "        -6.94110485e-01,  2.17368669e-01,  9.33989093e-01,  8.13341069e-01,\n",
       "        -3.64212679e-02, -8.53533996e-01, -9.05501724e-01, -1.45738320e-01,\n",
       "         7.44671253e-01,  9.67525124e-01,  3.23047388e-01, -6.11024077e-01,\n",
       "        -9.97346982e-01, -4.89604671e-01,  4.57040564e-01,  9.93974758e-01,\n",
       "         6.39866743e-01, -2.87845652e-01, -9.57520684e-01, -7.68832526e-01,\n",
       "         1.09070551e-01,  8.89198042e-01,  8.72209730e-01,  7.33346776e-02,\n",
       "        -7.91280770e-01, -9.46557716e-01, -2.53299154e-01,  6.67027788e-01,\n",
       "         9.89402007e-01,  4.24833230e-01, -5.20574533e-01, -9.99316641e-01,\n",
       "        -5.82227845e-01,  3.56795317e-01,  9.75971637e-01,  7.20244530e-01,\n",
       "        -1.81141102e-01, -9.20143972e-01, -8.34289761e-01, -5.41919326e-04,\n",
       "         8.33691722e-01,  9.20567841e-01,  1.82206905e-01, -7.19492226e-01,\n",
       "        -9.76207230e-01, -3.57807610e-01,  5.81346315e-01,  9.99356116e-01,\n",
       "         5.21499626e-01, -4.23851813e-01, -9.89244050e-01, -6.67834892e-01,\n",
       "         2.52250513e-01,  9.46207585e-01,  7.91943021e-01, -7.22537144e-02,\n",
       "        -8.71679077e-01, -8.89693400e-01, -1.10147860e-01,  7.68139013e-01,\n",
       "         9.57832663e-01,  2.88883450e-01, -6.39033453e-01, -9.94092972e-01,\n",
       "        -4.58004312e-01,  4.88659336e-01,  9.97267500e-01,  6.11881698e-01,\n",
       "        -3.22021473e-01, -9.67250588e-01, -7.45394204e-01,  1.44665967e-01,\n",
       "         9.05041273e-01,  8.54098215e-01,  3.75043659e-02, -8.12710028e-01,\n",
       "        -9.34375802e-01, -2.18426465e-01,  6.93329857e-01,  9.83555136e-01,\n",
       "         3.92078810e-01, -5.50874016e-01, -9.99999413e-01, -5.52681839e-01,\n",
       "         3.90083776e-01,  9.83161326e-01,  6.94890299e-01, -2.16310618e-01,\n",
       "        -9.33601288e-01, -8.13971154e-01,  3.53381271e-02,  8.52968774e-01,\n",
       "         9.05961111e-01,  1.46810500e-01, -7.43947428e-01, -9.67798523e-01,\n",
       "        -3.24072925e-01,  6.10165739e-01,  9.97425294e-01,  4.90549430e-01,\n",
       "        -4.56076280e-01, -9.93855375e-01, -6.40699282e-01,  2.86807516e-01,\n",
       "         9.57207581e-01,  7.69525135e-01, -1.07993115e-01, -8.88701639e-01,\n",
       "        -8.72739358e-01, -7.44155547e-02,  7.90617589e-01,  9.46906736e-01,\n",
       "         2.54347497e-01, -6.66219901e-01, -9.89558802e-01, -4.25814149e-01,\n",
       "         5.19648828e-01,  9.99275993e-01,  5.83108692e-01, -3.55782604e-01,\n",
       "        -9.75734898e-01, -7.20995988e-01,  1.80075087e-01,  9.19719021e-01,\n",
       "         8.34886819e-01,  1.62575734e-03, -8.33092704e-01, -9.20990629e-01,\n",
       "        -1.83272493e-01,  7.18739077e-01,  9.76441676e-01,  3.58819483e-01,\n",
       "        -5.80464101e-01, -9.99394417e-01, -5.22424107e-01,  4.22869897e-01,\n",
       "         9.89084931e-01,  6.68641211e-01, -2.51201575e-01, -9.45856342e-01,\n",
       "        -7.92604342e-01,  7.11726663e-02,  8.71147401e-01,  8.90187713e-01,\n",
       "         1.11225038e-01, -7.67444599e-01, -9.58143516e-01, -2.89920909e-01,\n",
       "         6.38199411e-01,  9.94210019e-01,  4.58967521e-01, -4.87713427e-01,\n",
       "        -9.97186845e-01, -6.12738600e-01,  3.20995179e-01,  9.66974917e-01,\n",
       "         7.46116279e-01, -1.43593445e-01, -9.04579759e-01, -8.54661430e-01,\n",
       "        -3.85874199e-02,  8.12078032e-01,  9.34761413e-01,  2.19484004e-01,\n",
       "        -6.92548413e-01, -9.83750309e-01, -3.93075637e-01,  5.49969133e-01,\n",
       "         9.99997651e-01,  5.53584777e-01, -3.89085570e-01, -9.82962688e-01,\n",
       "        -6.95669296e-01,  2.15252312e-01,  9.33212385e-01,  8.14600284e-01,\n",
       "        -3.42549448e-02, -8.52402551e-01, -9.06419433e-01, -1.47882509e-01,\n",
       "         7.43222729e-01,  9.68070785e-01,  3.25098081e-01, -6.09306684e-01,\n",
       "        -9.97502434e-01, -4.91493613e-01,  4.55111460e-01,  9.93734825e-01,\n",
       "         6.41531068e-01, -2.85769043e-01, -9.56893354e-01, -7.70216840e-01,\n",
       "         1.06915552e-01,  8.88204192e-01,  8.73267960e-01,  7.54963443e-02,\n",
       "        -7.89953479e-01, -9.47254643e-01, -2.55395542e-01,  6.65411231e-01,\n",
       "         9.89714434e-01,  4.26794568e-01, -5.18722513e-01, -9.99234170e-01,\n",
       "        -5.83988853e-01,  3.54769474e-01,  9.75497013e-01,  7.21746598e-01,\n",
       "        -1.79008861e-01, -9.19292991e-01, -8.35482897e-01, -2.70959345e-03,\n",
       "         8.32492708e-01,  9.21412335e-01,  1.84337866e-01, -7.17985084e-01,\n",
       "        -9.76674974e-01, -3.59830935e-01,  5.79581206e-01,  9.99431544e-01,\n",
       "         5.23347973e-01, -4.21887485e-01, -9.88924650e-01, -6.69446744e-01,\n",
       "         2.50152343e-01,  9.45503989e-01,  7.93264732e-01, -7.00915346e-02,\n",
       "        -8.70614701e-01, -8.90680980e-01, -1.12302087e-01,  7.66749282e-01,\n",
       "         9.58453243e-01,  2.90958027e-01, -6.37364621e-01, -9.94325899e-01,\n",
       "        -4.59930191e-01,  4.86766946e-01,  9.97105019e-01,  6.13594782e-01,\n",
       "        -3.19968507e-01, -9.66698109e-01, -7.46837477e-01,  1.42520755e-01,\n",
       "         9.04117183e-01,  8.55223642e-01,  3.96704285e-02, -8.11445082e-01,\n",
       "        -9.35145926e-01, -2.20541285e-01,  6.91766156e-01,  9.83944326e-01,\n",
       "         3.94072002e-01, -5.49063605e-01, -9.99994714e-01, -5.54487065e-01,\n",
       "         3.88086908e-01,  9.82762896e-01,  6.96447476e-01, -2.14193754e-01,\n",
       "        -9.32822387e-01, -8.15228456e-01,  3.31717223e-02,  8.51835326e-01,\n",
       "         9.06876691e-01,  1.48954344e-01, -7.42497157e-01, -9.68341909e-01,\n",
       "        -3.26122854e-01,  6.08446913e-01,  9.97578401e-01,  4.92437219e-01,\n",
       "        -4.54146106e-01, -9.93613108e-01, -6.42362100e-01,  2.84730235e-01,\n",
       "         9.56578002e-01,  7.70907640e-01, -1.05837863e-01, -8.87705702e-01,\n",
       "        -8.73795537e-01, -7.65770453e-02,  7.89288441e-01,  9.47601437e-01,\n",
       "         2.56443287e-01, -6.64601780e-01, -9.89868903e-01, -4.27774485e-01,\n",
       "         5.17795589e-01,  9.99191174e-01,  5.84868329e-01, -3.53755926e-01,\n",
       "        -9.75257982e-01, -7.22496361e-01,  1.77942424e-01,  9.18865880e-01,\n",
       "         8.36077994e-01,  3.79342637e-03, -8.31891733e-01, -9.21832958e-01,\n",
       "        -1.85403022e-01,  7.17230247e-01,  9.76907126e-01,  3.60841964e-01,\n",
       "        -5.78697630e-01, -9.99467497e-01, -5.24271225e-01,  4.20904577e-01,\n",
       "         9.88763208e-01,  6.70251491e-01, -2.49102816e-01, -9.45150524e-01,\n",
       "        -7.93924191e-01,  6.90103206e-02,  8.70080979e-01,  8.91173202e-01,\n",
       "         1.13379003e-01, -7.66053066e-01, -9.58761845e-01, -2.91994803e-01,\n",
       "         6.36529081e-01,  9.94440610e-01,  4.60892320e-01, -4.85819892e-01,\n",
       "        -9.97022022e-01, -6.14450243e-01,  3.18941460e-01,  9.66420166e-01,\n",
       "         7.47557798e-01, -1.41447896e-01, -9.03653544e-01, -8.55784849e-01,\n",
       "        -4.07533905e-02,  8.10811179e-01,  9.35529340e-01,  2.21598307e-01,\n",
       "        -6.90983087e-01, -9.84137186e-01, -3.95067905e-01,  5.48157431e-01,\n",
       "         9.99990602e-01,  5.55388701e-01, -3.87087790e-01, -9.82561949e-01,\n",
       "        -6.97224838e-01,  2.13134945e-01,  9.32431292e-01,  8.15855671e-01,\n",
       "        -3.20884608e-02, -8.51267101e-01, -9.07332884e-01, -1.50026003e-01,\n",
       "         7.41770712e-01,  9.68611897e-01,  3.27147245e-01, -6.07586427e-01,\n",
       "        -9.97653198e-01, -4.93380247e-01,  4.53180218e-01,  9.93490223e-01,\n",
       "         6.43192378e-01]),\n",
       " array([ 0.        ,  0.83399086,  0.92035604,  0.18167403, -0.71986848,\n",
       "        -0.97608958, -0.35730152,  0.58178717,  0.99933653,  0.52103716,\n",
       "        -0.42434258, -0.98932317, -0.66743144,  0.25277487,  0.94638279,\n",
       "         0.79161201, -0.07279421, -0.87194453, -0.88944585, -0.10960922,\n",
       "         0.76848588,  0.95767681,  0.28836459, -0.63945019, -0.99403401,\n",
       "        -0.45752251,  0.48913208,  0.99730739,  0.61145298, -0.32253448,\n",
       "        -0.967388  , -0.74503284,  0.14520216,  0.90527163,  0.85381623,\n",
       "         0.03696282, -0.81302567, -0.93418258, -0.2178976 ,  0.69372027,\n",
       "         0.98345712,  0.39158022, -0.55132621, -0.99999985, -0.55223013,\n",
       "         0.39058271,  0.98326021,  0.69450049, -0.21683968, -0.93379533,\n",
       "        -0.81365623,  0.0358797 ,  0.85325151,  0.90573155,  0.14627443,\n",
       "        -0.74430945, -0.96766197, -0.3235602 ,  0.610595  ,  0.99738628,\n",
       "         0.49007712, -0.45655849, -0.99391521, -0.64028311,  0.28732663,\n",
       "         0.95736427,  0.76917894, -0.10853185, -0.88894997, -0.87247467,\n",
       "        -0.07387513,  0.7909493 ,  0.94673237,  0.25382336, -0.66662394,\n",
       "        -0.98948055, -0.42532375,  0.52011176,  0.99929646,  0.58266835,\n",
       "        -0.35628901, -0.97585341, -0.72062036,  0.18060812,  0.91993163,\n",
       "         0.83458841,  0.00108384, -0.83339234, -0.92077937, -0.18273973,\n",
       "         0.71911576,  0.9763246 ,  0.3583136 , -0.58090529, -0.99937541,\n",
       "        -0.52196194,  0.42336092,  0.98916464,  0.66823815, -0.25172608,\n",
       "        -0.9460321 , -0.7922738 ,  0.0717132 ,  0.87141337,  0.88994069,\n",
       "         0.11068647, -0.76779192, -0.95798823, -0.28940222,  0.63861653,\n",
       "         0.99415164,  0.45848598, -0.48818645, -0.99722732, -0.61231024,\n",
       "         0.32150837,  0.96711289,  0.74575535, -0.14412973, -0.90481065,\n",
       "        -0.85437995, -0.0380459 ,  0.81239415,  0.93456874,  0.21895527,\n",
       "        -0.69293924, -0.98365287, -0.39257728,  0.55042166,  0.99999868,\n",
       "         0.55313339, -0.38958473, -0.98306215, -0.6952799 ,  0.2157815 ,\n",
       "         0.93340697,  0.81428584, -0.03479654, -0.85268579, -0.90619041,\n",
       "        -0.14734653,  0.74358519,  0.9679348 ,  0.32458555, -0.6097363 ,\n",
       "        -0.99746401, -0.49102159,  0.45559394,  0.99379525,  0.64111527,\n",
       "        -0.28628832, -0.95705061, -0.7698711 ,  0.10745435,  0.88845305,\n",
       "         0.87300379,  0.07495596, -0.79028565, -0.94708083, -0.25487156,\n",
       "         0.66581566,  0.98963676,  0.42630442, -0.51918575, -0.99925523,\n",
       "        -0.58354886,  0.35527609,  0.9756161 ,  0.7213714 , -0.179542  ,\n",
       "        -0.91950614, -0.83518498, -0.00216768,  0.83279283,  0.92120162,\n",
       "         0.18380521, -0.71836219, -0.97655847, -0.35932526,  0.58002274,\n",
       "         0.99941313,  0.52288612, -0.42237875, -0.98900494, -0.66904408,\n",
       "         0.250677  ,  0.9456803 ,  0.79293465, -0.07063211, -0.87088118,\n",
       "        -0.89043448, -0.11176358,  0.76709705,  0.95829852,  0.29043951,\n",
       "        -0.63778211, -0.99426811, -0.45944892,  0.48724026,  0.99714608,\n",
       "         0.61316678, -0.32048189, -0.96683665, -0.74647699,  0.14305712,\n",
       "         0.9043486 ,  0.85494266,  0.03912893, -0.81176168, -0.93495381,\n",
       "        -0.22001268,  0.69215739,  0.98384746,  0.39357388, -0.54951645,\n",
       "        -0.99999633, -0.554036  ,  0.3885863 ,  0.98286294,  0.69605849,\n",
       "        -0.21472306, -0.93301752, -0.81491449,  0.03371334,  0.85211906,\n",
       "         0.9066482 ,  0.14841845, -0.74286005, -0.96820649, -0.32561052,\n",
       "         0.60887689,  0.99754056,  0.49196549, -0.45462885, -0.99367411,\n",
       "        -0.64194668,  0.28524968,  0.95673582,  0.77056235, -0.10637672,\n",
       "        -0.88795508, -0.87353188, -0.07603671,  0.78962108,  0.94742818,\n",
       "         0.25591945, -0.6650066 , -0.98979181, -0.42728459,  0.51825913,\n",
       "         0.99921282,  0.58442868, -0.35426275, -0.97537764, -0.72212159,\n",
       "         0.17847567,  0.91907957,  0.83578057,  0.00325151, -0.83219234,\n",
       "        -0.92162278, -0.18487047,  0.71760777,  0.97679119,  0.3603365 ,\n",
       "        -0.5791395 , -0.99944967, -0.52380968,  0.42139609,  0.98884407,\n",
       "         0.66984922, -0.24962762, -0.9453274 , -0.79359458,  0.06955094,\n",
       "         0.87034797,  0.89092722,  0.11284056, -0.76640129, -0.95860768,\n",
       "        -0.29147646,  0.63694694,  0.9943834 ,  0.46041132, -0.48629349,\n",
       "        -0.99706367, -0.6140226 ,  0.31945503,  0.96655928,  0.74719775,\n",
       "        -0.14198435, -0.9038855 , -0.85550437, -0.04021192,  0.81112825,\n",
       "         0.93533777,  0.22106983, -0.69137472, -0.9840409 , -0.39457001,\n",
       "         0.5486106 ,  0.9999928 ,  0.55493796, -0.38758741, -0.98266257,\n",
       "        -0.69683626,  0.21366438,  0.93262698,  0.81554218, -0.0326301 ,\n",
       "        -0.85155134, -0.90710492, -0.1494902 ,  0.74213404,  0.96847705,\n",
       "         0.3266351 , -0.60801676, -0.99761595, -0.49290881,  0.45366323,\n",
       "         0.99355181,  0.64277733, -0.2842107 , -0.95641991, -0.7712527 ,\n",
       "         0.10529897,  0.88745607,  0.87405894,  0.07711736, -0.78895557,\n",
       "        -0.94777442, -0.25696705,  0.66419676,  0.9899457 ,  0.42826426,\n",
       "        -0.5173319 , -0.99916924, -0.58530781,  0.353249  ,  0.97513804,\n",
       "         0.72287092, -0.17740913, -0.91865192, -0.83637517, -0.00433534,\n",
       "         0.83159088,  0.92204286,  0.18593552, -0.71685251, -0.97702277,\n",
       "        -0.36134732,  0.57825559,  0.99948503,  0.52473262, -0.42041294,\n",
       "        -0.98868205, -0.67065357,  0.24857794,  0.94497338,  0.79425357,\n",
       "        -0.06846968, -0.86981373, -0.89141892, -0.11391741,  0.76570462])]"
      ]
     },
     "execution_count": 25,
     "metadata": {},
     "output_type": "execute_result"
    }
   ],
   "source": [
    "from numpy import *\n",
    "\n",
    "d=np.arange(0,365)\n",
    "th=360/365*d\n",
    "R=1\n",
    "x=R*cos(th)\n",
    "\n",
    "y=R*sin(th)\n",
    "P=[x,y]\n",
    "P"
   ]
  },
  {
   "cell_type": "markdown",
   "metadata": {
    "slideshow": {
     "slide_type": "slide"
    }
   },
   "source": [
    "## Escribiendo los datos a un archivo VTK\n",
    "A continuación se muestra la implementación usado Python para construir un archivo copatible con VTK.\n",
    "\n",
    "Aunque sigue pendiente evaluar la escritura desde otras librerias como **Paraview**, esta implementación es eficaz ya que ser realizará una sola vez para crear el archivo de parámetros y permite tener un control total"
   ]
  },
  {
   "cell_type": "code",
   "execution_count": 27,
   "metadata": {
    "slideshow": {
     "slide_type": "fragment"
    }
   },
   "outputs": [],
   "source": [
    "with open(\"tubes_n1_raw.vtk\") as f:\n",
    "    with open(\"tubes_n1_param.vtk\", \"w\") as f1:\n",
    "        for line in f:                                                   #copiar el archivo Raw\n",
    "            f1.write(line) \n",
    "        \n",
    "        f1.write('POINT_DATA '+str(N_points)+'\\n\\n')                     # Encabezado POINT_DATA\n",
    "        f1.write('FIELD FieldData 3\\n\\n')                                # Encabezado para ¿¿¿\n",
    "        f1.write('CreasesId 1 '+str(len(creases_id))+' int')             # Encabezado CreasesID \n",
    "        for i in creases_id:                                             # Escribe cada linea de CresasesId\n",
    "            f1.write(str(i)+'\\n')\n",
    "        f1.write('ConstraintTags 3 '+str(len(constraint_tags))+' int\\n') # Encabezado ConstraintTags\n",
    "        for i in constraint_tags:                                        # Escribe cada linea de contratin tags\n",
    "            f1.write(np.array2string(i)[1:-1]+'\\n')"
   ]
  },
  {
   "cell_type": "markdown",
   "metadata": {
    "slideshow": {
     "slide_type": "fragment"
    }
   },
   "source": [
    "Del mismo modo se pueden agregar Boundary points y Bdispl (pendiente)"
   ]
  },
  {
   "cell_type": "markdown",
   "metadata": {
    "slideshow": {
     "slide_type": "slide"
    }
   },
   "source": [
    "## Para identificar non manifold nodes\n",
    "Se crea un array que a cada nodo le asigna un Master:\n",
    "* primero se buscan los nodos únicos\n",
    "* si el nodo es único es su propio master\n",
    "* si el nodo se repite:\n",
    " * el primer nodo es master\n",
    " * los siguientes son slaves, es decir tienen como master al primero en aparecer"
   ]
  },
  {
   "cell_type": "code",
   "execution_count": 1,
   "metadata": {
    "scrolled": true
   },
   "outputs": [
    {
     "data": {
      "text/plain": [
       "array([ 0,  1,  2,  3,  4,  5,  6,  7,  8,  9, 10,  0, 12, 13,  3, 15, 16,\n",
       "        6, 18, 19,  0, 21, 22, 23, 24,  3, 26, 27, 28, 29,  6, 31, 32])"
      ]
     },
     "execution_count": 1,
     "metadata": {},
     "output_type": "execute_result"
    }
   ],
   "source": [
    "import numpy as np\n",
    "import vtk\n",
    "from vtk.numpy_interface import dataset_adapter as dsa\n",
    "\n",
    "reader = vtk.vtkPolyDataReader()             # SOURCE/READER \n",
    "reader.SetFileName('non_manifold.vtk')                   \n",
    "reader.Update()                                          \n",
    "data_vtk=reader.GetOutput()\n",
    "data = dsa.WrapDataObject(data_vtk)          # convierte a array compatible con numpy\n",
    "\n",
    "N_points=data.GetNumberOfPoints()            # número de nodos\n",
    "Points=np.array(data.Points)                 # nodos\n",
    "\n",
    "unq, index = np.unique(data.Points,          # filtro valores uniq del array de puntos\n",
    "                       axis=0,               # compara filas enteras\n",
    "                       return_index=True)    # índice de los no repetidos\n",
    "\n",
    "master=np.zeros(N_points,dtype=int)\n",
    "for i in range(0, N_points):                 # para cada nodo i\n",
    "    if i in index:                           # si es único\n",
    "        master[i]=i                          # su master es i\n",
    "    else:                                    # si no es único\n",
    "        for j in range(0,i):                 # comparo con c/ nodo anterior  j\n",
    "            if np.all(Points[i]==Points[j]): # si es igual  al nodo j (el primero que aparece)\n",
    "                master[i]=j                  # su master es j\n",
    "                break                        # detengo el bucle for\n",
    "master"
   ]
  },
  {
   "cell_type": "markdown",
   "metadata": {},
   "source": [
    "Comparo la lista de puntos con la lista de puntos referida a sus master, para verificar que sean iguales:"
   ]
  },
  {
   "cell_type": "code",
   "execution_count": 12,
   "metadata": {},
   "outputs": [
    {
     "data": {
      "text/plain": [
       "True"
      ]
     },
     "execution_count": 12,
     "metadata": {},
     "output_type": "execute_result"
    }
   ],
   "source": [
    "np.all(Points==Points[master])  # si da True el algoritmo para los masters funciona bien"
   ]
  },
  {
   "cell_type": "markdown",
   "metadata": {},
   "source": [
    "El array obtenido con los masters de cada nodo es un numpy.array, entonces:\n",
    "* lo convierto a objeto vtk\n",
    "* se doy como argumento al PointData de la malla\n",
    "* escribo el nuevo archivo"
   ]
  },
  {
   "cell_type": "code",
   "execution_count": 3,
   "metadata": {
    "scrolled": true
   },
   "outputs": [
    {
     "data": {
      "text/plain": [
       "1"
      ]
     },
     "execution_count": 3,
     "metadata": {},
     "output_type": "execute_result"
    }
   ],
   "source": [
    "Master=dsa.numpyTovtkDataArray(master, name = \"master\" )   # convierto la lista master a un objeto vtkDataArray \n",
    "data_vtk.GetPointData().SetScalars(Master)                 # agrego en PointData al vtkArray llamado Master (NO ES EL CONVERTIDO A NUMPY)\n",
    "\n",
    "writer = vtk.vtkPolyDataWriter()                           # creo el objeto PolyDataWriter\n",
    "writer.SetFileName('non_manifold_masters.vtk')             # le pongo nombre al archivo de salida\n",
    "writer.SetInputData(data_vtk)                              # le conecto los datos data_vtk\n",
    "writer.SetFileType(1)                                      # opcional: set file type to ascii\n",
    "writer.Write()                                             # escribo el archivo .vtk  Returns 1 on success and 0 on failure. "
   ]
  },
  {
   "cell_type": "markdown",
   "metadata": {},
   "source": [
    "Verificando el contenido del archivo guardado vemos los atributos Point Data agregados"
   ]
  },
  {
   "cell_type": "code",
   "execution_count": 11,
   "metadata": {},
   "outputs": [
    {
     "name": "stdout",
     "output_type": "stream",
     "text": [
      "# vtk DataFile Version 4.2\n",
      "vtk output\n",
      "ASCII\n",
      "DATASET POLYDATA\n",
      "POINTS 33 double\n",
      "-2 -2 -2 0 -2 0 2 -2 2 \n",
      "-2 0 -2 0 0 0 2 0 2 \n",
      "-2 2 -2 0 2 0 2 2 2 \n",
      "-6 -2 2 -4 -2 0 -2 -2 -2 \n",
      "-6 0 2 -4 0 0 -2 0 -2 \n",
      "\n",
      "...\n",
      "\n",
      "3 30 25 26 \n",
      "3 32 31 27 \n",
      "\n",
      "POINT_DATA 33\n",
      "SCALARS master vtktypeint64\n",
      "LOOKUP_TABLE default\n",
      "0 1 2 3 4 5 6 7 8 \n",
      "9 10 0 12 13 3 15 16 6 \n",
      "18 19 0 21 22 23 24 3 26 \n",
      "27 28 29 6 31 32 \n"
     ]
    }
   ],
   "source": [
    "!head non_manifold_masters.vtk && echo '\\n...\\n' && tail non_manifold_masters.vtk"
   ]
  }
 ],
 "metadata": {
  "celltoolbar": "Slideshow",
  "kernelspec": {
   "display_name": "Python 3",
   "language": "python",
   "name": "python3"
  },
  "language_info": {
   "codemirror_mode": {
    "name": "ipython",
    "version": 3
   },
   "file_extension": ".py",
   "mimetype": "text/x-python",
   "name": "python",
   "nbconvert_exporter": "python",
   "pygments_lexer": "ipython3",
   "version": "3.7.9"
  },
  "varInspector": {
   "cols": {
    "lenName": 16,
    "lenType": 16,
    "lenVar": 40
   },
   "kernels_config": {
    "python": {
     "delete_cmd_postfix": "",
     "delete_cmd_prefix": "del ",
     "library": "var_list.py",
     "varRefreshCmd": "print(var_dic_list())"
    },
    "r": {
     "delete_cmd_postfix": ") ",
     "delete_cmd_prefix": "rm(",
     "library": "var_list.r",
     "varRefreshCmd": "cat(var_dic_list()) "
    }
   },
   "types_to_exclude": [
    "module",
    "function",
    "builtin_function_or_method",
    "instance",
    "_Feature"
   ],
   "window_display": true
  }
 },
 "nbformat": 4,
 "nbformat_minor": 4
}
